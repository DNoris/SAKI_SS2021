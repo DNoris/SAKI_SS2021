{
  "nbformat": 4,
  "nbformat_minor": 0,
  "metadata": {
    "colab": {
      "name": "Homework_4_MDP_Kesenheimer.ipynb",
      "provenance": [],
      "toc_visible": true,
      "authorship_tag": "ABX9TyPk3DAvTMrzWLG/ZIdbvpzx",
      "include_colab_link": true
    },
    "kernelspec": {
      "name": "python3",
      "display_name": "Python 3"
    },
    "language_info": {
      "name": "python"
    }
  },
  "cells": [
    {
      "cell_type": "markdown",
      "metadata": {
        "id": "view-in-github",
        "colab_type": "text"
      },
      "source": [
        "<a href=\"https://colab.research.google.com/github/DNoris/SAKI_SS2021/blob/main/Homework_4_MDP_Kesenheimer.ipynb\" target=\"_parent\"><img src=\"https://colab.research.google.com/assets/colab-badge.svg\" alt=\"Open In Colab\"/></a>"
      ]
    },
    {
      "cell_type": "markdown",
      "metadata": {
        "id": "MYqE4YKEJvas"
      },
      "source": [
        "# Import\n",
        "\n",
        "Requied modules are imported and pymdptoolbox is installed"
      ]
    },
    {
      "cell_type": "code",
      "metadata": {
        "colab": {
          "base_uri": "https://localhost:8080/"
        },
        "id": "hiLXadusQvTr",
        "outputId": "bef8e6be-6e36-4480-e04b-c2176a143819"
      },
      "source": [
        "!pip install pymdptoolbox\n",
        "import mdptoolbox.mdp as mdp\n",
        "import mdptoolbox.util as util\n",
        "import mdptoolbox.example as example\n",
        "\n",
        "import random\n",
        "import numpy as np\n",
        "from itertools import permutations\n",
        "from itertools import product\n",
        "from sklearn.preprocessing import normalize\n",
        "from scipy.sparse import csr_matrix\n"
      ],
      "execution_count": 1,
      "outputs": [
        {
          "output_type": "stream",
          "text": [
            "Requirement already satisfied: pymdptoolbox in /usr/local/lib/python3.7/dist-packages (4.0b3)\n",
            "Requirement already satisfied: scipy in /usr/local/lib/python3.7/dist-packages (from pymdptoolbox) (1.4.1)\n",
            "Requirement already satisfied: numpy in /usr/local/lib/python3.7/dist-packages (from pymdptoolbox) (1.19.5)\n"
          ],
          "name": "stdout"
        }
      ]
    },
    {
      "cell_type": "markdown",
      "metadata": {
        "id": "zqVLgGktKN5W"
      },
      "source": [
        "#Preperation of MDP\n",
        "\n"
      ]
    },
    {
      "cell_type": "markdown",
      "metadata": {
        "id": "3Xi6VKtbQ68q"
      },
      "source": [
        "##Warehouse Attributes\n",
        "Warehouse Attributes are set.\n",
        "\n",
        "Size of warehouse\n",
        "Number of products\n",
        "Probabilities of products\n",
        "Movements"
      ]
    },
    {
      "cell_type": "code",
      "metadata": {
        "id": "X7m2kPpSSK7w"
      },
      "source": [
        "warehouse = [\"A\",\"B\",\"C\",\"D\"]\n",
        "\n",
        "products = [\"p1\",\"p2\"]\n",
        "probability = {\"p1\": 0.8,\"p2\": 0.2}\n",
        "probabilities_only = [0.8, 0.2]\n",
        "if (len(products) != len(probability)):\n",
        "  print(\"ERROR: Prob. or Products are unqueal \")\n",
        "movements = [\"stock\", \"unstock\"]\n",
        "\n"
      ],
      "execution_count": 2,
      "outputs": []
    },
    {
      "cell_type": "markdown",
      "metadata": {
        "id": "5MqwYK-BLFZ1"
      },
      "source": [
        "## States\n",
        "All possible states are determined by calling function get_states. For visualization purpose the number of states and all states are printed."
      ]
    },
    {
      "cell_type": "code",
      "metadata": {
        "id": "owhmkHf7QxQn"
      },
      "source": [
        "def get_states(warehouse, product, movements):\n",
        "  unique_combinations = []\n",
        "  if (len(warehouse) != 4):\n",
        "    print(\"ERROR: Warehouse_Size not correct\")\n",
        "  if (len(product) != 2):\n",
        "    print(\"ERROR: Warehouse_Size not correct\")\n",
        "  if (len(movements) != 2):\n",
        "    print(\"ERROR: Warehouse_Size not correct\")\n",
        "  part = product.copy()\n",
        "  part.insert(0,\"E\")\n",
        "  for a in range(3):\n",
        "    for b in range(3):\n",
        "        for c in range(3):\n",
        "          for d in range(3):\n",
        "            for e in range(2):\n",
        "              for f in range(2):\n",
        "                unique_combinations.append([[part[a], part[b], part[c], part[d]],product[e], movements[f]])\n",
        "  return unique_combinations\n",
        "\n",
        "  "
      ],
      "execution_count": 3,
      "outputs": []
    },
    {
      "cell_type": "code",
      "metadata": {
        "colab": {
          "base_uri": "https://localhost:8080/"
        },
        "id": "FfFmWUL6STET",
        "outputId": "0845a4e7-7640-45e2-b4b6-03b34aa358c6"
      },
      "source": [
        "states = get_states(warehouse, products, movements)\n",
        "print(states)\n",
        "print(len(states))"
      ],
      "execution_count": 4,
      "outputs": [
        {
          "output_type": "stream",
          "text": [
            "[[['E', 'E', 'E', 'E'], 'p1', 'stock'], [['E', 'E', 'E', 'E'], 'p1', 'unstock'], [['E', 'E', 'E', 'E'], 'p2', 'stock'], [['E', 'E', 'E', 'E'], 'p2', 'unstock'], [['E', 'E', 'E', 'p1'], 'p1', 'stock'], [['E', 'E', 'E', 'p1'], 'p1', 'unstock'], [['E', 'E', 'E', 'p1'], 'p2', 'stock'], [['E', 'E', 'E', 'p1'], 'p2', 'unstock'], [['E', 'E', 'E', 'p2'], 'p1', 'stock'], [['E', 'E', 'E', 'p2'], 'p1', 'unstock'], [['E', 'E', 'E', 'p2'], 'p2', 'stock'], [['E', 'E', 'E', 'p2'], 'p2', 'unstock'], [['E', 'E', 'p1', 'E'], 'p1', 'stock'], [['E', 'E', 'p1', 'E'], 'p1', 'unstock'], [['E', 'E', 'p1', 'E'], 'p2', 'stock'], [['E', 'E', 'p1', 'E'], 'p2', 'unstock'], [['E', 'E', 'p1', 'p1'], 'p1', 'stock'], [['E', 'E', 'p1', 'p1'], 'p1', 'unstock'], [['E', 'E', 'p1', 'p1'], 'p2', 'stock'], [['E', 'E', 'p1', 'p1'], 'p2', 'unstock'], [['E', 'E', 'p1', 'p2'], 'p1', 'stock'], [['E', 'E', 'p1', 'p2'], 'p1', 'unstock'], [['E', 'E', 'p1', 'p2'], 'p2', 'stock'], [['E', 'E', 'p1', 'p2'], 'p2', 'unstock'], [['E', 'E', 'p2', 'E'], 'p1', 'stock'], [['E', 'E', 'p2', 'E'], 'p1', 'unstock'], [['E', 'E', 'p2', 'E'], 'p2', 'stock'], [['E', 'E', 'p2', 'E'], 'p2', 'unstock'], [['E', 'E', 'p2', 'p1'], 'p1', 'stock'], [['E', 'E', 'p2', 'p1'], 'p1', 'unstock'], [['E', 'E', 'p2', 'p1'], 'p2', 'stock'], [['E', 'E', 'p2', 'p1'], 'p2', 'unstock'], [['E', 'E', 'p2', 'p2'], 'p1', 'stock'], [['E', 'E', 'p2', 'p2'], 'p1', 'unstock'], [['E', 'E', 'p2', 'p2'], 'p2', 'stock'], [['E', 'E', 'p2', 'p2'], 'p2', 'unstock'], [['E', 'p1', 'E', 'E'], 'p1', 'stock'], [['E', 'p1', 'E', 'E'], 'p1', 'unstock'], [['E', 'p1', 'E', 'E'], 'p2', 'stock'], [['E', 'p1', 'E', 'E'], 'p2', 'unstock'], [['E', 'p1', 'E', 'p1'], 'p1', 'stock'], [['E', 'p1', 'E', 'p1'], 'p1', 'unstock'], [['E', 'p1', 'E', 'p1'], 'p2', 'stock'], [['E', 'p1', 'E', 'p1'], 'p2', 'unstock'], [['E', 'p1', 'E', 'p2'], 'p1', 'stock'], [['E', 'p1', 'E', 'p2'], 'p1', 'unstock'], [['E', 'p1', 'E', 'p2'], 'p2', 'stock'], [['E', 'p1', 'E', 'p2'], 'p2', 'unstock'], [['E', 'p1', 'p1', 'E'], 'p1', 'stock'], [['E', 'p1', 'p1', 'E'], 'p1', 'unstock'], [['E', 'p1', 'p1', 'E'], 'p2', 'stock'], [['E', 'p1', 'p1', 'E'], 'p2', 'unstock'], [['E', 'p1', 'p1', 'p1'], 'p1', 'stock'], [['E', 'p1', 'p1', 'p1'], 'p1', 'unstock'], [['E', 'p1', 'p1', 'p1'], 'p2', 'stock'], [['E', 'p1', 'p1', 'p1'], 'p2', 'unstock'], [['E', 'p1', 'p1', 'p2'], 'p1', 'stock'], [['E', 'p1', 'p1', 'p2'], 'p1', 'unstock'], [['E', 'p1', 'p1', 'p2'], 'p2', 'stock'], [['E', 'p1', 'p1', 'p2'], 'p2', 'unstock'], [['E', 'p1', 'p2', 'E'], 'p1', 'stock'], [['E', 'p1', 'p2', 'E'], 'p1', 'unstock'], [['E', 'p1', 'p2', 'E'], 'p2', 'stock'], [['E', 'p1', 'p2', 'E'], 'p2', 'unstock'], [['E', 'p1', 'p2', 'p1'], 'p1', 'stock'], [['E', 'p1', 'p2', 'p1'], 'p1', 'unstock'], [['E', 'p1', 'p2', 'p1'], 'p2', 'stock'], [['E', 'p1', 'p2', 'p1'], 'p2', 'unstock'], [['E', 'p1', 'p2', 'p2'], 'p1', 'stock'], [['E', 'p1', 'p2', 'p2'], 'p1', 'unstock'], [['E', 'p1', 'p2', 'p2'], 'p2', 'stock'], [['E', 'p1', 'p2', 'p2'], 'p2', 'unstock'], [['E', 'p2', 'E', 'E'], 'p1', 'stock'], [['E', 'p2', 'E', 'E'], 'p1', 'unstock'], [['E', 'p2', 'E', 'E'], 'p2', 'stock'], [['E', 'p2', 'E', 'E'], 'p2', 'unstock'], [['E', 'p2', 'E', 'p1'], 'p1', 'stock'], [['E', 'p2', 'E', 'p1'], 'p1', 'unstock'], [['E', 'p2', 'E', 'p1'], 'p2', 'stock'], [['E', 'p2', 'E', 'p1'], 'p2', 'unstock'], [['E', 'p2', 'E', 'p2'], 'p1', 'stock'], [['E', 'p2', 'E', 'p2'], 'p1', 'unstock'], [['E', 'p2', 'E', 'p2'], 'p2', 'stock'], [['E', 'p2', 'E', 'p2'], 'p2', 'unstock'], [['E', 'p2', 'p1', 'E'], 'p1', 'stock'], [['E', 'p2', 'p1', 'E'], 'p1', 'unstock'], [['E', 'p2', 'p1', 'E'], 'p2', 'stock'], [['E', 'p2', 'p1', 'E'], 'p2', 'unstock'], [['E', 'p2', 'p1', 'p1'], 'p1', 'stock'], [['E', 'p2', 'p1', 'p1'], 'p1', 'unstock'], [['E', 'p2', 'p1', 'p1'], 'p2', 'stock'], [['E', 'p2', 'p1', 'p1'], 'p2', 'unstock'], [['E', 'p2', 'p1', 'p2'], 'p1', 'stock'], [['E', 'p2', 'p1', 'p2'], 'p1', 'unstock'], [['E', 'p2', 'p1', 'p2'], 'p2', 'stock'], [['E', 'p2', 'p1', 'p2'], 'p2', 'unstock'], [['E', 'p2', 'p2', 'E'], 'p1', 'stock'], [['E', 'p2', 'p2', 'E'], 'p1', 'unstock'], [['E', 'p2', 'p2', 'E'], 'p2', 'stock'], [['E', 'p2', 'p2', 'E'], 'p2', 'unstock'], [['E', 'p2', 'p2', 'p1'], 'p1', 'stock'], [['E', 'p2', 'p2', 'p1'], 'p1', 'unstock'], [['E', 'p2', 'p2', 'p1'], 'p2', 'stock'], [['E', 'p2', 'p2', 'p1'], 'p2', 'unstock'], [['E', 'p2', 'p2', 'p2'], 'p1', 'stock'], [['E', 'p2', 'p2', 'p2'], 'p1', 'unstock'], [['E', 'p2', 'p2', 'p2'], 'p2', 'stock'], [['E', 'p2', 'p2', 'p2'], 'p2', 'unstock'], [['p1', 'E', 'E', 'E'], 'p1', 'stock'], [['p1', 'E', 'E', 'E'], 'p1', 'unstock'], [['p1', 'E', 'E', 'E'], 'p2', 'stock'], [['p1', 'E', 'E', 'E'], 'p2', 'unstock'], [['p1', 'E', 'E', 'p1'], 'p1', 'stock'], [['p1', 'E', 'E', 'p1'], 'p1', 'unstock'], [['p1', 'E', 'E', 'p1'], 'p2', 'stock'], [['p1', 'E', 'E', 'p1'], 'p2', 'unstock'], [['p1', 'E', 'E', 'p2'], 'p1', 'stock'], [['p1', 'E', 'E', 'p2'], 'p1', 'unstock'], [['p1', 'E', 'E', 'p2'], 'p2', 'stock'], [['p1', 'E', 'E', 'p2'], 'p2', 'unstock'], [['p1', 'E', 'p1', 'E'], 'p1', 'stock'], [['p1', 'E', 'p1', 'E'], 'p1', 'unstock'], [['p1', 'E', 'p1', 'E'], 'p2', 'stock'], [['p1', 'E', 'p1', 'E'], 'p2', 'unstock'], [['p1', 'E', 'p1', 'p1'], 'p1', 'stock'], [['p1', 'E', 'p1', 'p1'], 'p1', 'unstock'], [['p1', 'E', 'p1', 'p1'], 'p2', 'stock'], [['p1', 'E', 'p1', 'p1'], 'p2', 'unstock'], [['p1', 'E', 'p1', 'p2'], 'p1', 'stock'], [['p1', 'E', 'p1', 'p2'], 'p1', 'unstock'], [['p1', 'E', 'p1', 'p2'], 'p2', 'stock'], [['p1', 'E', 'p1', 'p2'], 'p2', 'unstock'], [['p1', 'E', 'p2', 'E'], 'p1', 'stock'], [['p1', 'E', 'p2', 'E'], 'p1', 'unstock'], [['p1', 'E', 'p2', 'E'], 'p2', 'stock'], [['p1', 'E', 'p2', 'E'], 'p2', 'unstock'], [['p1', 'E', 'p2', 'p1'], 'p1', 'stock'], [['p1', 'E', 'p2', 'p1'], 'p1', 'unstock'], [['p1', 'E', 'p2', 'p1'], 'p2', 'stock'], [['p1', 'E', 'p2', 'p1'], 'p2', 'unstock'], [['p1', 'E', 'p2', 'p2'], 'p1', 'stock'], [['p1', 'E', 'p2', 'p2'], 'p1', 'unstock'], [['p1', 'E', 'p2', 'p2'], 'p2', 'stock'], [['p1', 'E', 'p2', 'p2'], 'p2', 'unstock'], [['p1', 'p1', 'E', 'E'], 'p1', 'stock'], [['p1', 'p1', 'E', 'E'], 'p1', 'unstock'], [['p1', 'p1', 'E', 'E'], 'p2', 'stock'], [['p1', 'p1', 'E', 'E'], 'p2', 'unstock'], [['p1', 'p1', 'E', 'p1'], 'p1', 'stock'], [['p1', 'p1', 'E', 'p1'], 'p1', 'unstock'], [['p1', 'p1', 'E', 'p1'], 'p2', 'stock'], [['p1', 'p1', 'E', 'p1'], 'p2', 'unstock'], [['p1', 'p1', 'E', 'p2'], 'p1', 'stock'], [['p1', 'p1', 'E', 'p2'], 'p1', 'unstock'], [['p1', 'p1', 'E', 'p2'], 'p2', 'stock'], [['p1', 'p1', 'E', 'p2'], 'p2', 'unstock'], [['p1', 'p1', 'p1', 'E'], 'p1', 'stock'], [['p1', 'p1', 'p1', 'E'], 'p1', 'unstock'], [['p1', 'p1', 'p1', 'E'], 'p2', 'stock'], [['p1', 'p1', 'p1', 'E'], 'p2', 'unstock'], [['p1', 'p1', 'p1', 'p1'], 'p1', 'stock'], [['p1', 'p1', 'p1', 'p1'], 'p1', 'unstock'], [['p1', 'p1', 'p1', 'p1'], 'p2', 'stock'], [['p1', 'p1', 'p1', 'p1'], 'p2', 'unstock'], [['p1', 'p1', 'p1', 'p2'], 'p1', 'stock'], [['p1', 'p1', 'p1', 'p2'], 'p1', 'unstock'], [['p1', 'p1', 'p1', 'p2'], 'p2', 'stock'], [['p1', 'p1', 'p1', 'p2'], 'p2', 'unstock'], [['p1', 'p1', 'p2', 'E'], 'p1', 'stock'], [['p1', 'p1', 'p2', 'E'], 'p1', 'unstock'], [['p1', 'p1', 'p2', 'E'], 'p2', 'stock'], [['p1', 'p1', 'p2', 'E'], 'p2', 'unstock'], [['p1', 'p1', 'p2', 'p1'], 'p1', 'stock'], [['p1', 'p1', 'p2', 'p1'], 'p1', 'unstock'], [['p1', 'p1', 'p2', 'p1'], 'p2', 'stock'], [['p1', 'p1', 'p2', 'p1'], 'p2', 'unstock'], [['p1', 'p1', 'p2', 'p2'], 'p1', 'stock'], [['p1', 'p1', 'p2', 'p2'], 'p1', 'unstock'], [['p1', 'p1', 'p2', 'p2'], 'p2', 'stock'], [['p1', 'p1', 'p2', 'p2'], 'p2', 'unstock'], [['p1', 'p2', 'E', 'E'], 'p1', 'stock'], [['p1', 'p2', 'E', 'E'], 'p1', 'unstock'], [['p1', 'p2', 'E', 'E'], 'p2', 'stock'], [['p1', 'p2', 'E', 'E'], 'p2', 'unstock'], [['p1', 'p2', 'E', 'p1'], 'p1', 'stock'], [['p1', 'p2', 'E', 'p1'], 'p1', 'unstock'], [['p1', 'p2', 'E', 'p1'], 'p2', 'stock'], [['p1', 'p2', 'E', 'p1'], 'p2', 'unstock'], [['p1', 'p2', 'E', 'p2'], 'p1', 'stock'], [['p1', 'p2', 'E', 'p2'], 'p1', 'unstock'], [['p1', 'p2', 'E', 'p2'], 'p2', 'stock'], [['p1', 'p2', 'E', 'p2'], 'p2', 'unstock'], [['p1', 'p2', 'p1', 'E'], 'p1', 'stock'], [['p1', 'p2', 'p1', 'E'], 'p1', 'unstock'], [['p1', 'p2', 'p1', 'E'], 'p2', 'stock'], [['p1', 'p2', 'p1', 'E'], 'p2', 'unstock'], [['p1', 'p2', 'p1', 'p1'], 'p1', 'stock'], [['p1', 'p2', 'p1', 'p1'], 'p1', 'unstock'], [['p1', 'p2', 'p1', 'p1'], 'p2', 'stock'], [['p1', 'p2', 'p1', 'p1'], 'p2', 'unstock'], [['p1', 'p2', 'p1', 'p2'], 'p1', 'stock'], [['p1', 'p2', 'p1', 'p2'], 'p1', 'unstock'], [['p1', 'p2', 'p1', 'p2'], 'p2', 'stock'], [['p1', 'p2', 'p1', 'p2'], 'p2', 'unstock'], [['p1', 'p2', 'p2', 'E'], 'p1', 'stock'], [['p1', 'p2', 'p2', 'E'], 'p1', 'unstock'], [['p1', 'p2', 'p2', 'E'], 'p2', 'stock'], [['p1', 'p2', 'p2', 'E'], 'p2', 'unstock'], [['p1', 'p2', 'p2', 'p1'], 'p1', 'stock'], [['p1', 'p2', 'p2', 'p1'], 'p1', 'unstock'], [['p1', 'p2', 'p2', 'p1'], 'p2', 'stock'], [['p1', 'p2', 'p2', 'p1'], 'p2', 'unstock'], [['p1', 'p2', 'p2', 'p2'], 'p1', 'stock'], [['p1', 'p2', 'p2', 'p2'], 'p1', 'unstock'], [['p1', 'p2', 'p2', 'p2'], 'p2', 'stock'], [['p1', 'p2', 'p2', 'p2'], 'p2', 'unstock'], [['p2', 'E', 'E', 'E'], 'p1', 'stock'], [['p2', 'E', 'E', 'E'], 'p1', 'unstock'], [['p2', 'E', 'E', 'E'], 'p2', 'stock'], [['p2', 'E', 'E', 'E'], 'p2', 'unstock'], [['p2', 'E', 'E', 'p1'], 'p1', 'stock'], [['p2', 'E', 'E', 'p1'], 'p1', 'unstock'], [['p2', 'E', 'E', 'p1'], 'p2', 'stock'], [['p2', 'E', 'E', 'p1'], 'p2', 'unstock'], [['p2', 'E', 'E', 'p2'], 'p1', 'stock'], [['p2', 'E', 'E', 'p2'], 'p1', 'unstock'], [['p2', 'E', 'E', 'p2'], 'p2', 'stock'], [['p2', 'E', 'E', 'p2'], 'p2', 'unstock'], [['p2', 'E', 'p1', 'E'], 'p1', 'stock'], [['p2', 'E', 'p1', 'E'], 'p1', 'unstock'], [['p2', 'E', 'p1', 'E'], 'p2', 'stock'], [['p2', 'E', 'p1', 'E'], 'p2', 'unstock'], [['p2', 'E', 'p1', 'p1'], 'p1', 'stock'], [['p2', 'E', 'p1', 'p1'], 'p1', 'unstock'], [['p2', 'E', 'p1', 'p1'], 'p2', 'stock'], [['p2', 'E', 'p1', 'p1'], 'p2', 'unstock'], [['p2', 'E', 'p1', 'p2'], 'p1', 'stock'], [['p2', 'E', 'p1', 'p2'], 'p1', 'unstock'], [['p2', 'E', 'p1', 'p2'], 'p2', 'stock'], [['p2', 'E', 'p1', 'p2'], 'p2', 'unstock'], [['p2', 'E', 'p2', 'E'], 'p1', 'stock'], [['p2', 'E', 'p2', 'E'], 'p1', 'unstock'], [['p2', 'E', 'p2', 'E'], 'p2', 'stock'], [['p2', 'E', 'p2', 'E'], 'p2', 'unstock'], [['p2', 'E', 'p2', 'p1'], 'p1', 'stock'], [['p2', 'E', 'p2', 'p1'], 'p1', 'unstock'], [['p2', 'E', 'p2', 'p1'], 'p2', 'stock'], [['p2', 'E', 'p2', 'p1'], 'p2', 'unstock'], [['p2', 'E', 'p2', 'p2'], 'p1', 'stock'], [['p2', 'E', 'p2', 'p2'], 'p1', 'unstock'], [['p2', 'E', 'p2', 'p2'], 'p2', 'stock'], [['p2', 'E', 'p2', 'p2'], 'p2', 'unstock'], [['p2', 'p1', 'E', 'E'], 'p1', 'stock'], [['p2', 'p1', 'E', 'E'], 'p1', 'unstock'], [['p2', 'p1', 'E', 'E'], 'p2', 'stock'], [['p2', 'p1', 'E', 'E'], 'p2', 'unstock'], [['p2', 'p1', 'E', 'p1'], 'p1', 'stock'], [['p2', 'p1', 'E', 'p1'], 'p1', 'unstock'], [['p2', 'p1', 'E', 'p1'], 'p2', 'stock'], [['p2', 'p1', 'E', 'p1'], 'p2', 'unstock'], [['p2', 'p1', 'E', 'p2'], 'p1', 'stock'], [['p2', 'p1', 'E', 'p2'], 'p1', 'unstock'], [['p2', 'p1', 'E', 'p2'], 'p2', 'stock'], [['p2', 'p1', 'E', 'p2'], 'p2', 'unstock'], [['p2', 'p1', 'p1', 'E'], 'p1', 'stock'], [['p2', 'p1', 'p1', 'E'], 'p1', 'unstock'], [['p2', 'p1', 'p1', 'E'], 'p2', 'stock'], [['p2', 'p1', 'p1', 'E'], 'p2', 'unstock'], [['p2', 'p1', 'p1', 'p1'], 'p1', 'stock'], [['p2', 'p1', 'p1', 'p1'], 'p1', 'unstock'], [['p2', 'p1', 'p1', 'p1'], 'p2', 'stock'], [['p2', 'p1', 'p1', 'p1'], 'p2', 'unstock'], [['p2', 'p1', 'p1', 'p2'], 'p1', 'stock'], [['p2', 'p1', 'p1', 'p2'], 'p1', 'unstock'], [['p2', 'p1', 'p1', 'p2'], 'p2', 'stock'], [['p2', 'p1', 'p1', 'p2'], 'p2', 'unstock'], [['p2', 'p1', 'p2', 'E'], 'p1', 'stock'], [['p2', 'p1', 'p2', 'E'], 'p1', 'unstock'], [['p2', 'p1', 'p2', 'E'], 'p2', 'stock'], [['p2', 'p1', 'p2', 'E'], 'p2', 'unstock'], [['p2', 'p1', 'p2', 'p1'], 'p1', 'stock'], [['p2', 'p1', 'p2', 'p1'], 'p1', 'unstock'], [['p2', 'p1', 'p2', 'p1'], 'p2', 'stock'], [['p2', 'p1', 'p2', 'p1'], 'p2', 'unstock'], [['p2', 'p1', 'p2', 'p2'], 'p1', 'stock'], [['p2', 'p1', 'p2', 'p2'], 'p1', 'unstock'], [['p2', 'p1', 'p2', 'p2'], 'p2', 'stock'], [['p2', 'p1', 'p2', 'p2'], 'p2', 'unstock'], [['p2', 'p2', 'E', 'E'], 'p1', 'stock'], [['p2', 'p2', 'E', 'E'], 'p1', 'unstock'], [['p2', 'p2', 'E', 'E'], 'p2', 'stock'], [['p2', 'p2', 'E', 'E'], 'p2', 'unstock'], [['p2', 'p2', 'E', 'p1'], 'p1', 'stock'], [['p2', 'p2', 'E', 'p1'], 'p1', 'unstock'], [['p2', 'p2', 'E', 'p1'], 'p2', 'stock'], [['p2', 'p2', 'E', 'p1'], 'p2', 'unstock'], [['p2', 'p2', 'E', 'p2'], 'p1', 'stock'], [['p2', 'p2', 'E', 'p2'], 'p1', 'unstock'], [['p2', 'p2', 'E', 'p2'], 'p2', 'stock'], [['p2', 'p2', 'E', 'p2'], 'p2', 'unstock'], [['p2', 'p2', 'p1', 'E'], 'p1', 'stock'], [['p2', 'p2', 'p1', 'E'], 'p1', 'unstock'], [['p2', 'p2', 'p1', 'E'], 'p2', 'stock'], [['p2', 'p2', 'p1', 'E'], 'p2', 'unstock'], [['p2', 'p2', 'p1', 'p1'], 'p1', 'stock'], [['p2', 'p2', 'p1', 'p1'], 'p1', 'unstock'], [['p2', 'p2', 'p1', 'p1'], 'p2', 'stock'], [['p2', 'p2', 'p1', 'p1'], 'p2', 'unstock'], [['p2', 'p2', 'p1', 'p2'], 'p1', 'stock'], [['p2', 'p2', 'p1', 'p2'], 'p1', 'unstock'], [['p2', 'p2', 'p1', 'p2'], 'p2', 'stock'], [['p2', 'p2', 'p1', 'p2'], 'p2', 'unstock'], [['p2', 'p2', 'p2', 'E'], 'p1', 'stock'], [['p2', 'p2', 'p2', 'E'], 'p1', 'unstock'], [['p2', 'p2', 'p2', 'E'], 'p2', 'stock'], [['p2', 'p2', 'p2', 'E'], 'p2', 'unstock'], [['p2', 'p2', 'p2', 'p1'], 'p1', 'stock'], [['p2', 'p2', 'p2', 'p1'], 'p1', 'unstock'], [['p2', 'p2', 'p2', 'p1'], 'p2', 'stock'], [['p2', 'p2', 'p2', 'p1'], 'p2', 'unstock'], [['p2', 'p2', 'p2', 'p2'], 'p1', 'stock'], [['p2', 'p2', 'p2', 'p2'], 'p1', 'unstock'], [['p2', 'p2', 'p2', 'p2'], 'p2', 'stock'], [['p2', 'p2', 'p2', 'p2'], 'p2', 'unstock']]\n",
            "324\n"
          ],
          "name": "stdout"
        }
      ]
    },
    {
      "cell_type": "markdown",
      "metadata": {
        "id": "RwIhDu6XLu6N"
      },
      "source": [
        "## Actions\n",
        "All possible actions are determined by calling function get_actions"
      ]
    },
    {
      "cell_type": "code",
      "metadata": {
        "id": "Rf0YY8I-WEip"
      },
      "source": [
        "def get_actions(warehouse):\n",
        "  unique_combinations = []\n",
        "  if (len(warehouse) != 4):\n",
        "    print(\"ERROR: Warehouse_Size not correct\")\n",
        "  for a in range(len(warehouse)):\n",
        "    unique_combinations.append(warehouse[a])\n",
        "  return unique_combinations"
      ],
      "execution_count": 5,
      "outputs": []
    },
    {
      "cell_type": "code",
      "metadata": {
        "colab": {
          "base_uri": "https://localhost:8080/"
        },
        "id": "cLFx7CbjWaJY",
        "outputId": "29e49b23-b32e-4302-e8f2-21ea46235325"
      },
      "source": [
        "actions = get_actions(warehouse)\n",
        "print(actions)\n",
        "print(len(actions))"
      ],
      "execution_count": 6,
      "outputs": [
        {
          "output_type": "stream",
          "text": [
            "['A', 'B', 'C', 'D']\n",
            "4\n"
          ],
          "name": "stdout"
        }
      ]
    },
    {
      "cell_type": "markdown",
      "metadata": {
        "id": "vtuEB_-NRXmi"
      },
      "source": [
        "##Transistion Probability Matrix"
      ]
    },
    {
      "cell_type": "code",
      "metadata": {
        "id": "KiOKd1wmWy2y"
      },
      "source": [
        "def valid_transition(start, ziel, type):\n",
        "  counter1 = 0\n",
        "  counter2 = 0\n",
        "  for x in range(len(start[0])):\n",
        "    if start[0][x] == ziel[0][x]:\n",
        "      counter1 += 1\n",
        "    if start[0][x] != ziel[0][x]:\n",
        "      counter2 += 1\n",
        "  #check, if transition for stock and unstock is valid by ccounting the number of bin changes and whether the bin change fits to the product and movement \n",
        "  if (start[0][type] == \"E\" and ziel[0][type] == start[1] and start[2] == \"stock\" and counter1 == 3 and counter2 == 1):\n",
        "    return True\n",
        "  elif (ziel[0][type] == \"E\" and start[0][type] == start[1]  and start[2] == \"unstock\" and counter1 == 3 and counter2 == 1):\n",
        "    return True\n",
        "  else:\n",
        "    False"
      ],
      "execution_count": 7,
      "outputs": []
    },
    {
      "cell_type": "code",
      "metadata": {
        "id": "sDDg8iqhaGG5"
      },
      "source": [
        "def get_transition_matrix(stat, prob, act):\n",
        "  trans_mat = []\n",
        "  for start in range(len(stat)):\n",
        "    row =[]\n",
        "    for ziel in range(len(stat)):\n",
        "      if valid_transition(stat[start], stat[ziel], act):\n",
        "        row.append(prob[stat[ziel][1]])\n",
        "      else: \n",
        "        row.append(0)\n",
        "    trans_mat.append(row)\n",
        "  return trans_mat\n",
        "                          "
      ],
      "execution_count": 8,
      "outputs": []
    },
    {
      "cell_type": "code",
      "metadata": {
        "id": "Ozj4oV5ge-Om"
      },
      "source": [
        "# get for each action a transition probability matrix\n",
        "trans_matrix_0 = get_transition_matrix(states, probability,0)\n",
        "trans_matrix_1 = get_transition_matrix(states, probability,1)\n",
        "trans_matrix_2 = get_transition_matrix(states, probability,2)\n",
        "trans_matrix_3 = get_transition_matrix(states, probability,3)"
      ],
      "execution_count": 9,
      "outputs": []
    },
    {
      "cell_type": "markdown",
      "metadata": {
        "id": "5ENSeca_MouM"
      },
      "source": [
        "## Fulfill stochastic requirements"
      ]
    },
    {
      "cell_type": "code",
      "metadata": {
        "colab": {
          "base_uri": "https://localhost:8080/"
        },
        "id": "qPQUNnI6LqaJ",
        "outputId": "5611742b-5560-4dca-bde4-c3281f4f0535"
      },
      "source": [
        "#set the main diagonal of the States x States Matrix to 1\n",
        "if (len(trans_matrix_0) == len(trans_matrix_1) == len(trans_matrix_2) == len(trans_matrix_3)):\n",
        "  for i in range(len(trans_matrix_0)):\n",
        "    if sum(trans_matrix_0[i]) == 0:\n",
        "      trans_matrix_0[i][i] = 1.0\n",
        "    if sum(trans_matrix_1[i]) == 0:\n",
        "      trans_matrix_1[i][i] = 1.0\n",
        "    if sum(trans_matrix_2[i]) == 0:\n",
        "      trans_matrix_2[i][i] = 1.0\n",
        "    if sum(trans_matrix_3[i]) == 0:\n",
        "      trans_matrix_3[i][i] = 1.0\n",
        "else:\n",
        "  print(\"Fehler\")\n",
        "print(\"eliminated zeros in trans_matrix\")"
      ],
      "execution_count": 10,
      "outputs": [
        {
          "output_type": "stream",
          "text": [
            "eliminated zeros in trans_matrix\n"
          ],
          "name": "stdout"
        }
      ]
    },
    {
      "cell_type": "code",
      "metadata": {
        "id": "oIWkZVOPNBT3"
      },
      "source": [
        "def check_norm(matrix):\n",
        "  for row in matrix:\n",
        "    if(sum(row) != 1):\n",
        "      print(\"Achtung! Summe nicht 1\")\n",
        "      break\n",
        "  print(\"Success, Sum of all Rows is correct\")"
      ],
      "execution_count": 11,
      "outputs": []
    },
    {
      "cell_type": "code",
      "metadata": {
        "colab": {
          "base_uri": "https://localhost:8080/"
        },
        "id": "YcnW8z9TMewq",
        "outputId": "d9020825-8f73-45e0-a2c4-ace71629827c"
      },
      "source": [
        "#check sum of each row, whether matrices fulfill stochastic requirement\n",
        "norm_trans_matrix_0 = normalize(trans_matrix_0, axis=1, norm='l1')\n",
        "norm_trans_matrix_1 = normalize(trans_matrix_1, axis=1, norm='l1')\n",
        "norm_trans_matrix_2 = normalize(trans_matrix_2, axis=1, norm='l1')\n",
        "norm_trans_matrix_3 = normalize(trans_matrix_3, axis=1, norm='l1')\n",
        "\n",
        "check_norm(norm_trans_matrix_0)\n",
        "check_norm(norm_trans_matrix_1)\n",
        "check_norm(norm_trans_matrix_2)\n",
        "check_norm(norm_trans_matrix_3)"
      ],
      "execution_count": 12,
      "outputs": [
        {
          "output_type": "stream",
          "text": [
            "Success, Sum of all Rows is correct\n",
            "Success, Sum of all Rows is correct\n",
            "Success, Sum of all Rows is correct\n",
            "Success, Sum of all Rows is correct\n"
          ],
          "name": "stdout"
        }
      ]
    },
    {
      "cell_type": "markdown",
      "metadata": {
        "id": "C7kkyCqPNBzk"
      },
      "source": [
        "## Reward Matrix"
      ]
    },
    {
      "cell_type": "code",
      "metadata": {
        "id": "GKAiLvNhSnS9"
      },
      "source": [
        "# return reward per bin\n",
        "def reward(bin):\n",
        "  if bin == 0:\n",
        "    return 3\n",
        "  elif bin == 1 or bin == 2:\n",
        "    return 2\n",
        "  elif bin == 3:\n",
        "    return 1\n",
        "  else:\n",
        "    print(\"Fehler im Reward\")\n",
        "    "
      ],
      "execution_count": 13,
      "outputs": []
    },
    {
      "cell_type": "code",
      "metadata": {
        "id": "zzdOtTbYHoYY"
      },
      "source": [
        "# check for valid reward by validating the movement type and the affected bin by that product and movement \n",
        "def valid_reward(start, ziel):\n",
        "  if (start[2] ==\"stock\" ):\n",
        "    if start[0][ziel] == \"E\":\n",
        "      return reward(ziel)\n",
        "    else:\n",
        "      return 0\n",
        "\n",
        "  if (start[2] == \"unstock\"):\n",
        "    if start[0][ziel] == start[1]:\n",
        "      return reward(ziel)\n",
        "    else: \n",
        "      return 0\n",
        "\n"
      ],
      "execution_count": 14,
      "outputs": []
    },
    {
      "cell_type": "code",
      "metadata": {
        "id": "id6CmEy5QpLJ"
      },
      "source": [
        "def get_reward_matrix(states, actions):\n",
        "  matrix = []\n",
        "  for start in range(len(states)):\n",
        "    row = []\n",
        "    for ziel in range(len(actions)):\n",
        "      row.append(valid_reward(states[start], ziel))\n",
        "    matrix.append(row)\n",
        "  return matrix"
      ],
      "execution_count": 15,
      "outputs": []
    },
    {
      "cell_type": "markdown",
      "metadata": {
        "id": "653GSM75NY5V"
      },
      "source": [
        " For visualization purpose the number of rewards and all rewards are printed.\n",
        " Matrix must fulfill SxA property "
      ]
    },
    {
      "cell_type": "code",
      "metadata": {
        "colab": {
          "base_uri": "https://localhost:8080/"
        },
        "id": "QTbzMtUeTuFY",
        "outputId": "4bca1fa0-dd4d-487c-9515-6cc5f698e05f"
      },
      "source": [
        "rewards = get_reward_matrix(states, actions)\n",
        "print(len(rewards))\n",
        "print(rewards)\n"
      ],
      "execution_count": 16,
      "outputs": [
        {
          "output_type": "stream",
          "text": [
            "324\n",
            "[[3, 2, 2, 1], [0, 0, 0, 0], [3, 2, 2, 1], [0, 0, 0, 0], [3, 2, 2, 0], [0, 0, 0, 1], [3, 2, 2, 0], [0, 0, 0, 0], [3, 2, 2, 0], [0, 0, 0, 0], [3, 2, 2, 0], [0, 0, 0, 1], [3, 2, 0, 1], [0, 0, 2, 0], [3, 2, 0, 1], [0, 0, 0, 0], [3, 2, 0, 0], [0, 0, 2, 1], [3, 2, 0, 0], [0, 0, 0, 0], [3, 2, 0, 0], [0, 0, 2, 0], [3, 2, 0, 0], [0, 0, 0, 1], [3, 2, 0, 1], [0, 0, 0, 0], [3, 2, 0, 1], [0, 0, 2, 0], [3, 2, 0, 0], [0, 0, 0, 1], [3, 2, 0, 0], [0, 0, 2, 0], [3, 2, 0, 0], [0, 0, 0, 0], [3, 2, 0, 0], [0, 0, 2, 1], [3, 0, 2, 1], [0, 2, 0, 0], [3, 0, 2, 1], [0, 0, 0, 0], [3, 0, 2, 0], [0, 2, 0, 1], [3, 0, 2, 0], [0, 0, 0, 0], [3, 0, 2, 0], [0, 2, 0, 0], [3, 0, 2, 0], [0, 0, 0, 1], [3, 0, 0, 1], [0, 2, 2, 0], [3, 0, 0, 1], [0, 0, 0, 0], [3, 0, 0, 0], [0, 2, 2, 1], [3, 0, 0, 0], [0, 0, 0, 0], [3, 0, 0, 0], [0, 2, 2, 0], [3, 0, 0, 0], [0, 0, 0, 1], [3, 0, 0, 1], [0, 2, 0, 0], [3, 0, 0, 1], [0, 0, 2, 0], [3, 0, 0, 0], [0, 2, 0, 1], [3, 0, 0, 0], [0, 0, 2, 0], [3, 0, 0, 0], [0, 2, 0, 0], [3, 0, 0, 0], [0, 0, 2, 1], [3, 0, 2, 1], [0, 0, 0, 0], [3, 0, 2, 1], [0, 2, 0, 0], [3, 0, 2, 0], [0, 0, 0, 1], [3, 0, 2, 0], [0, 2, 0, 0], [3, 0, 2, 0], [0, 0, 0, 0], [3, 0, 2, 0], [0, 2, 0, 1], [3, 0, 0, 1], [0, 0, 2, 0], [3, 0, 0, 1], [0, 2, 0, 0], [3, 0, 0, 0], [0, 0, 2, 1], [3, 0, 0, 0], [0, 2, 0, 0], [3, 0, 0, 0], [0, 0, 2, 0], [3, 0, 0, 0], [0, 2, 0, 1], [3, 0, 0, 1], [0, 0, 0, 0], [3, 0, 0, 1], [0, 2, 2, 0], [3, 0, 0, 0], [0, 0, 0, 1], [3, 0, 0, 0], [0, 2, 2, 0], [3, 0, 0, 0], [0, 0, 0, 0], [3, 0, 0, 0], [0, 2, 2, 1], [0, 2, 2, 1], [3, 0, 0, 0], [0, 2, 2, 1], [0, 0, 0, 0], [0, 2, 2, 0], [3, 0, 0, 1], [0, 2, 2, 0], [0, 0, 0, 0], [0, 2, 2, 0], [3, 0, 0, 0], [0, 2, 2, 0], [0, 0, 0, 1], [0, 2, 0, 1], [3, 0, 2, 0], [0, 2, 0, 1], [0, 0, 0, 0], [0, 2, 0, 0], [3, 0, 2, 1], [0, 2, 0, 0], [0, 0, 0, 0], [0, 2, 0, 0], [3, 0, 2, 0], [0, 2, 0, 0], [0, 0, 0, 1], [0, 2, 0, 1], [3, 0, 0, 0], [0, 2, 0, 1], [0, 0, 2, 0], [0, 2, 0, 0], [3, 0, 0, 1], [0, 2, 0, 0], [0, 0, 2, 0], [0, 2, 0, 0], [3, 0, 0, 0], [0, 2, 0, 0], [0, 0, 2, 1], [0, 0, 2, 1], [3, 2, 0, 0], [0, 0, 2, 1], [0, 0, 0, 0], [0, 0, 2, 0], [3, 2, 0, 1], [0, 0, 2, 0], [0, 0, 0, 0], [0, 0, 2, 0], [3, 2, 0, 0], [0, 0, 2, 0], [0, 0, 0, 1], [0, 0, 0, 1], [3, 2, 2, 0], [0, 0, 0, 1], [0, 0, 0, 0], [0, 0, 0, 0], [3, 2, 2, 1], [0, 0, 0, 0], [0, 0, 0, 0], [0, 0, 0, 0], [3, 2, 2, 0], [0, 0, 0, 0], [0, 0, 0, 1], [0, 0, 0, 1], [3, 2, 0, 0], [0, 0, 0, 1], [0, 0, 2, 0], [0, 0, 0, 0], [3, 2, 0, 1], [0, 0, 0, 0], [0, 0, 2, 0], [0, 0, 0, 0], [3, 2, 0, 0], [0, 0, 0, 0], [0, 0, 2, 1], [0, 0, 2, 1], [3, 0, 0, 0], [0, 0, 2, 1], [0, 2, 0, 0], [0, 0, 2, 0], [3, 0, 0, 1], [0, 0, 2, 0], [0, 2, 0, 0], [0, 0, 2, 0], [3, 0, 0, 0], [0, 0, 2, 0], [0, 2, 0, 1], [0, 0, 0, 1], [3, 0, 2, 0], [0, 0, 0, 1], [0, 2, 0, 0], [0, 0, 0, 0], [3, 0, 2, 1], [0, 0, 0, 0], [0, 2, 0, 0], [0, 0, 0, 0], [3, 0, 2, 0], [0, 0, 0, 0], [0, 2, 0, 1], [0, 0, 0, 1], [3, 0, 0, 0], [0, 0, 0, 1], [0, 2, 2, 0], [0, 0, 0, 0], [3, 0, 0, 1], [0, 0, 0, 0], [0, 2, 2, 0], [0, 0, 0, 0], [3, 0, 0, 0], [0, 0, 0, 0], [0, 2, 2, 1], [0, 2, 2, 1], [0, 0, 0, 0], [0, 2, 2, 1], [3, 0, 0, 0], [0, 2, 2, 0], [0, 0, 0, 1], [0, 2, 2, 0], [3, 0, 0, 0], [0, 2, 2, 0], [0, 0, 0, 0], [0, 2, 2, 0], [3, 0, 0, 1], [0, 2, 0, 1], [0, 0, 2, 0], [0, 2, 0, 1], [3, 0, 0, 0], [0, 2, 0, 0], [0, 0, 2, 1], [0, 2, 0, 0], [3, 0, 0, 0], [0, 2, 0, 0], [0, 0, 2, 0], [0, 2, 0, 0], [3, 0, 0, 1], [0, 2, 0, 1], [0, 0, 0, 0], [0, 2, 0, 1], [3, 0, 2, 0], [0, 2, 0, 0], [0, 0, 0, 1], [0, 2, 0, 0], [3, 0, 2, 0], [0, 2, 0, 0], [0, 0, 0, 0], [0, 2, 0, 0], [3, 0, 2, 1], [0, 0, 2, 1], [0, 2, 0, 0], [0, 0, 2, 1], [3, 0, 0, 0], [0, 0, 2, 0], [0, 2, 0, 1], [0, 0, 2, 0], [3, 0, 0, 0], [0, 0, 2, 0], [0, 2, 0, 0], [0, 0, 2, 0], [3, 0, 0, 1], [0, 0, 0, 1], [0, 2, 2, 0], [0, 0, 0, 1], [3, 0, 0, 0], [0, 0, 0, 0], [0, 2, 2, 1], [0, 0, 0, 0], [3, 0, 0, 0], [0, 0, 0, 0], [0, 2, 2, 0], [0, 0, 0, 0], [3, 0, 0, 1], [0, 0, 0, 1], [0, 2, 0, 0], [0, 0, 0, 1], [3, 0, 2, 0], [0, 0, 0, 0], [0, 2, 0, 1], [0, 0, 0, 0], [3, 0, 2, 0], [0, 0, 0, 0], [0, 2, 0, 0], [0, 0, 0, 0], [3, 0, 2, 1], [0, 0, 2, 1], [0, 0, 0, 0], [0, 0, 2, 1], [3, 2, 0, 0], [0, 0, 2, 0], [0, 0, 0, 1], [0, 0, 2, 0], [3, 2, 0, 0], [0, 0, 2, 0], [0, 0, 0, 0], [0, 0, 2, 0], [3, 2, 0, 1], [0, 0, 0, 1], [0, 0, 2, 0], [0, 0, 0, 1], [3, 2, 0, 0], [0, 0, 0, 0], [0, 0, 2, 1], [0, 0, 0, 0], [3, 2, 0, 0], [0, 0, 0, 0], [0, 0, 2, 0], [0, 0, 0, 0], [3, 2, 0, 1], [0, 0, 0, 1], [0, 0, 0, 0], [0, 0, 0, 1], [3, 2, 2, 0], [0, 0, 0, 0], [0, 0, 0, 1], [0, 0, 0, 0], [3, 2, 2, 0], [0, 0, 0, 0], [0, 0, 0, 0], [0, 0, 0, 0], [3, 2, 2, 1]]\n"
          ],
          "name": "stdout"
        }
      ]
    },
    {
      "cell_type": "markdown",
      "metadata": {
        "id": "sCPSCTfANlyF"
      },
      "source": [
        "## Assemble \n",
        "Matrices are converted to numpy arrays for processing in MDP Toolbox. Shapes of numpy arrays is printed to validate the correct shape.\n",
        "\n",
        "T = AxSxS\n",
        "\n",
        "R = SxA"
      ]
    },
    {
      "cell_type": "code",
      "metadata": {
        "colab": {
          "base_uri": "https://localhost:8080/"
        },
        "id": "rtFkDBM0XcTQ",
        "outputId": "a18ddfd4-4f9c-438f-dce9-ad5c0014fbc4"
      },
      "source": [
        "np.array(norm_trans_matrix_0)\n",
        "np.array(norm_trans_matrix_1)\n",
        "np.array(norm_trans_matrix_2)\n",
        "np.array(norm_trans_matrix_3)\n",
        "np.array(rewards)"
      ],
      "execution_count": 17,
      "outputs": [
        {
          "output_type": "execute_result",
          "data": {
            "text/plain": [
              "array([[3, 2, 2, 1],\n",
              "       [0, 0, 0, 0],\n",
              "       [3, 2, 2, 1],\n",
              "       ...,\n",
              "       [0, 0, 0, 0],\n",
              "       [0, 0, 0, 0],\n",
              "       [3, 2, 2, 1]])"
            ]
          },
          "metadata": {
            "tags": []
          },
          "execution_count": 17
        }
      ]
    },
    {
      "cell_type": "code",
      "metadata": {
        "colab": {
          "base_uri": "https://localhost:8080/"
        },
        "id": "e9J7dhTzXUvS",
        "outputId": "506111c9-bf3c-409a-e614-d7849e39386e"
      },
      "source": [
        "T = np.array([norm_trans_matrix_0, norm_trans_matrix_1, norm_trans_matrix_2,norm_trans_matrix_3])\n",
        "R = np.array(rewards)\n",
        "\n",
        "print(T.shape)\n",
        "print(R.shape)"
      ],
      "execution_count": 18,
      "outputs": [
        {
          "output_type": "stream",
          "text": [
            "(4, 324, 324)\n",
            "(324, 4)\n"
          ],
          "name": "stdout"
        }
      ]
    },
    {
      "cell_type": "code",
      "metadata": {
        "id": "yRLpJdPCYjTM"
      },
      "source": [
        "def get_rec_action(policy, state):\n",
        "    if len(policy)!=len(states):\n",
        "        return \"Policy does not match number of states!\"\n",
        "    #give state and get action(position based on chosen policy)\n",
        "    for it_state in range(len(states)):\n",
        "        #find position of state to search policy at this posiiton \n",
        "        if states[it_state]==state:\n",
        "            return actions[policy[it_state]]\n",
        "    return \"Input state is invalid, check shape and items!\"\n"
      ],
      "execution_count": 19,
      "outputs": []
    },
    {
      "cell_type": "markdown",
      "metadata": {
        "id": "0DsX4yOWOBWR"
      },
      "source": [
        "#MDP\n",
        "\n"
      ]
    },
    {
      "cell_type": "markdown",
      "metadata": {
        "id": "4crtgCedQ3xN"
      },
      "source": [
        "##Determination of policies\n",
        "\n",
        "Definition of the mdp with discount factor, maximal iterations, the tranisition probability matrix and the reward matrix"
      ]
    },
    {
      "cell_type": "code",
      "metadata": {
        "colab": {
          "base_uri": "https://localhost:8080/"
        },
        "id": "nFj79_QqkoU4",
        "outputId": "ffc5d633-58f0-4754-a5de-60b4015399d7"
      },
      "source": [
        "\n",
        "all_policies = {}\n",
        "discountFactor = 0.6\n",
        "iterations = 10000\n",
        "\n",
        "#FiniteHorizon\n",
        "fh_class = mdp.FiniteHorizon(T, R, discountFactor, N = iterations)\n",
        "fh_class.run()\n",
        "policy = []\n",
        "policy_iterations = fh_class.policy\n",
        "for state in policy_iterations:\n",
        "  policy.append(state[iterations-1])\n",
        "all_policies[\"FiniteHorizon\"] = tuple(policy)\n",
        "print(\"FiniteHorizon duration:\", fh_class.time)\n",
        "print(\"FiniteHorizon iterations: N.A\")\n",
        "\n",
        "print(\"_________________\")\n",
        "\n",
        "#PolicyIteraiton\n",
        "pi_class = mdp.PolicyIteration(T, R, discountFactor, max_iter=iterations)\n",
        "pi_class.run()\n",
        "all_policies[\"PolicyIteration\"] = pi_class.policy\n",
        "print(\"PolicyIteraiton duration:\", pi_class.time)\n",
        "print(\"PolicyIteraiton iterations:\", pi_class.iter)\n",
        "\n",
        "print(\"_________________\")\n",
        "\n",
        "#PolicyIterationModified\n",
        "pim_class = mdp.PolicyIterationModified(T, R, discountFactor, max_iter=iterations)\n",
        "pim_class.run()\n",
        "all_policies[\"PolicyIterationModified\"] = pim_class.policy\n",
        "print(\"PolicyIterationModified duration:\", pim_class.time)\n",
        "print(\"PolicyIterationModified iterations:\", pim_class.iter)\n",
        "\n",
        "print(\"_________________\")\n",
        "\n",
        "#RelativeValueIteration\n",
        "rvi_class = mdp.RelativeValueIteration(T, R, discountFactor, max_iter=iterations)\n",
        "rvi_class.run()\n",
        "all_policies[\"RelativeValueIteration\"] = rvi_class.policy\n",
        "print(\"RelativeValueIteration duration:\", rvi_class.time)\n",
        "print(\"RelativeValueIteration iterations:\", rvi_class.iter)\n",
        "\n",
        "print(\"_________________\")\n",
        "\n",
        "#ValueIteration\n",
        "vi_class = mdp.ValueIteration(T, R, discountFactor, max_iter=iterations)\n",
        "vi_class.run()\n",
        "all_policies[\"ValueIteration\"] = vi_class.policy\n",
        "print(\"ValueIteration duration:\", vi_class.time)\n",
        "print(\"ValueIteration iterations:\", vi_class.iter)\n",
        "\n",
        "print(\"_________________\")\n",
        "\n",
        "#ValueIterationGS\n",
        "vigs_class = mdp.ValueIterationGS(T, R, discountFactor, max_iter=iterations)\n",
        "vigs_class.run()\n",
        "all_policies[\"ValueIterationGS\"] = vigs_class.policy\n",
        "print(\"ValueIterationGS duration:\", vigs_class.time)\n",
        "print(\"ValueIterationGS iterations:\", vigs_class.iter)"
      ],
      "execution_count": 20,
      "outputs": [
        {
          "output_type": "stream",
          "text": [
            "FiniteHorizon duration: 2.7844388484954834\n",
            "FiniteHorizon iterations: N.A\n",
            "_________________\n",
            "PolicyIteraiton duration: 0.014936685562133789\n",
            "PolicyIteraiton iterations: 2\n",
            "_________________\n",
            "PolicyIterationModified duration: 0.0019943714141845703\n",
            "PolicyIterationModified iterations: 2\n",
            "_________________\n",
            "RelativeValueIteration duration: 0.0023484230041503906\n",
            "RelativeValueIteration iterations: 9\n",
            "_________________\n",
            "ValueIteration duration: 0.0026688575744628906\n",
            "ValueIteration iterations: 10\n",
            "_________________\n",
            "ValueIterationGS duration: 0.10316991806030273\n",
            "ValueIterationGS iterations: 7\n"
          ],
          "name": "stdout"
        }
      ]
    },
    {
      "cell_type": "code",
      "metadata": {
        "colab": {
          "base_uri": "https://localhost:8080/"
        },
        "id": "sQHgsZHUk6jz",
        "outputId": "85b11dd6-ea1d-48aa-d8e1-fa905a01a556"
      },
      "source": [
        "#print policies for visualization purposes \n",
        "for key in all_policies:\n",
        "  print(key)\n",
        "  print(all_policies[key])\n"
      ],
      "execution_count": 21,
      "outputs": [
        {
          "output_type": "stream",
          "text": [
            "FiniteHorizon\n",
            "(0, 0, 0, 0, 0, 3, 0, 0, 0, 0, 0, 3, 0, 2, 0, 0, 0, 2, 0, 0, 0, 2, 0, 3, 0, 0, 0, 2, 0, 3, 0, 2, 0, 0, 0, 2, 0, 1, 0, 0, 0, 1, 0, 0, 0, 1, 0, 3, 0, 1, 0, 0, 0, 1, 0, 0, 0, 1, 0, 3, 0, 1, 0, 2, 0, 1, 0, 2, 0, 1, 0, 2, 0, 0, 0, 1, 0, 3, 0, 1, 0, 0, 0, 1, 0, 2, 0, 1, 0, 2, 0, 1, 0, 2, 0, 1, 0, 0, 0, 1, 0, 3, 0, 1, 0, 0, 0, 1, 1, 0, 1, 0, 1, 0, 1, 0, 1, 0, 1, 3, 1, 0, 1, 0, 1, 0, 1, 0, 1, 0, 1, 3, 1, 0, 1, 2, 1, 0, 1, 2, 1, 0, 1, 2, 2, 0, 2, 0, 2, 0, 2, 0, 2, 0, 2, 3, 3, 0, 3, 0, 0, 0, 0, 0, 0, 0, 0, 3, 3, 0, 3, 2, 0, 0, 0, 2, 0, 0, 0, 2, 2, 0, 2, 1, 2, 0, 2, 1, 2, 0, 2, 1, 3, 0, 3, 1, 0, 0, 0, 1, 0, 0, 0, 1, 3, 0, 3, 1, 0, 0, 0, 1, 0, 0, 0, 1, 1, 0, 1, 0, 1, 3, 1, 0, 1, 0, 1, 0, 1, 2, 1, 0, 1, 2, 1, 0, 1, 2, 1, 0, 1, 0, 1, 0, 1, 3, 1, 0, 1, 0, 1, 0, 2, 1, 2, 0, 2, 1, 2, 0, 2, 1, 2, 0, 3, 1, 3, 0, 0, 1, 0, 0, 0, 1, 0, 0, 3, 1, 3, 0, 0, 1, 0, 0, 0, 1, 0, 0, 2, 0, 2, 0, 2, 3, 2, 0, 2, 0, 2, 0, 3, 2, 3, 0, 0, 2, 0, 0, 0, 2, 0, 0, 3, 0, 3, 0, 0, 3, 0, 0, 0, 0, 0, 0)\n",
            "PolicyIteration\n",
            "(0, 0, 0, 0, 0, 3, 0, 0, 0, 0, 0, 3, 0, 2, 0, 0, 0, 2, 0, 0, 0, 2, 0, 3, 0, 0, 0, 2, 0, 3, 0, 2, 0, 0, 0, 2, 0, 1, 0, 0, 0, 1, 0, 0, 0, 1, 0, 3, 0, 1, 0, 0, 0, 1, 0, 0, 0, 1, 0, 3, 0, 1, 0, 2, 0, 1, 0, 2, 0, 1, 0, 2, 0, 0, 0, 1, 0, 3, 0, 1, 0, 0, 0, 1, 0, 2, 0, 1, 0, 2, 0, 1, 0, 2, 0, 1, 0, 0, 0, 1, 0, 3, 0, 1, 0, 0, 0, 1, 1, 0, 1, 0, 1, 0, 1, 0, 1, 0, 1, 3, 1, 0, 1, 0, 1, 0, 1, 0, 1, 0, 1, 3, 1, 0, 1, 2, 1, 0, 1, 2, 1, 0, 1, 2, 2, 0, 2, 0, 2, 0, 2, 0, 2, 0, 2, 3, 3, 0, 3, 0, 0, 0, 0, 0, 0, 0, 0, 3, 3, 0, 3, 2, 0, 0, 0, 2, 0, 0, 0, 2, 2, 0, 2, 1, 2, 0, 2, 1, 2, 0, 2, 1, 3, 0, 3, 1, 0, 0, 0, 1, 0, 0, 0, 1, 3, 0, 3, 1, 0, 0, 0, 1, 0, 0, 0, 1, 1, 0, 2, 0, 1, 3, 1, 0, 1, 0, 1, 0, 1, 2, 1, 0, 1, 2, 1, 0, 1, 2, 1, 0, 1, 0, 1, 0, 1, 3, 1, 0, 1, 0, 1, 0, 2, 1, 2, 0, 2, 1, 2, 0, 2, 1, 2, 0, 3, 2, 3, 0, 0, 1, 0, 0, 0, 1, 0, 0, 3, 1, 3, 0, 0, 1, 0, 0, 0, 1, 0, 0, 2, 0, 2, 0, 2, 3, 2, 0, 2, 0, 2, 0, 3, 2, 3, 0, 0, 2, 0, 0, 0, 2, 0, 0, 3, 0, 3, 0, 0, 3, 0, 0, 0, 0, 0, 0)\n",
            "PolicyIterationModified\n",
            "(0, 0, 0, 0, 0, 3, 0, 0, 0, 0, 0, 3, 0, 2, 0, 0, 0, 2, 0, 0, 0, 2, 0, 3, 0, 0, 0, 2, 0, 3, 0, 2, 0, 0, 0, 2, 0, 1, 0, 0, 0, 1, 0, 0, 0, 1, 0, 3, 0, 1, 0, 0, 0, 1, 0, 0, 0, 1, 0, 3, 0, 1, 0, 2, 0, 1, 0, 2, 0, 1, 0, 2, 0, 0, 0, 1, 0, 3, 0, 1, 0, 0, 0, 1, 0, 2, 0, 1, 0, 2, 0, 1, 0, 2, 0, 1, 0, 0, 0, 1, 0, 3, 0, 1, 0, 0, 0, 1, 1, 0, 1, 0, 1, 0, 1, 0, 1, 0, 1, 3, 1, 0, 1, 0, 1, 0, 1, 0, 1, 0, 1, 3, 1, 0, 1, 2, 1, 0, 1, 2, 1, 0, 1, 2, 2, 0, 2, 0, 2, 0, 2, 0, 2, 0, 2, 3, 3, 0, 3, 0, 0, 0, 0, 0, 0, 0, 0, 3, 3, 0, 3, 2, 0, 0, 0, 2, 0, 0, 0, 2, 2, 0, 2, 1, 2, 0, 2, 1, 2, 0, 2, 1, 3, 0, 3, 1, 0, 0, 0, 1, 0, 0, 0, 1, 3, 0, 3, 1, 0, 0, 0, 1, 0, 0, 0, 1, 1, 0, 1, 0, 1, 3, 1, 0, 1, 0, 1, 0, 1, 2, 1, 0, 1, 2, 1, 0, 1, 2, 1, 0, 1, 0, 1, 0, 1, 3, 1, 0, 1, 0, 1, 0, 2, 1, 2, 0, 2, 1, 2, 0, 2, 1, 2, 0, 3, 1, 3, 0, 0, 1, 0, 0, 0, 1, 0, 0, 3, 1, 3, 0, 0, 1, 0, 0, 0, 1, 0, 0, 2, 0, 2, 0, 2, 3, 2, 0, 2, 0, 2, 0, 3, 2, 3, 0, 0, 2, 0, 0, 0, 2, 0, 0, 3, 0, 3, 0, 0, 3, 0, 0, 0, 0, 0, 0)\n",
            "RelativeValueIteration\n",
            "(0, 0, 0, 0, 0, 3, 1, 0, 0, 0, 0, 3, 0, 2, 1, 0, 0, 2, 1, 0, 0, 2, 0, 3, 0, 0, 0, 2, 0, 3, 0, 2, 0, 0, 0, 2, 0, 1, 2, 0, 0, 1, 2, 0, 0, 1, 0, 3, 0, 1, 0, 0, 0, 1, 0, 0, 0, 1, 0, 3, 0, 1, 0, 2, 0, 1, 0, 2, 0, 1, 0, 2, 0, 0, 0, 1, 0, 3, 0, 1, 0, 0, 0, 1, 0, 2, 0, 1, 0, 2, 0, 1, 0, 2, 0, 1, 0, 0, 0, 1, 0, 3, 0, 1, 0, 0, 0, 1, 1, 0, 1, 0, 1, 0, 1, 0, 1, 0, 1, 3, 1, 0, 1, 0, 1, 0, 1, 0, 1, 0, 1, 3, 1, 0, 1, 2, 1, 0, 1, 2, 1, 0, 1, 2, 2, 0, 2, 0, 2, 0, 2, 0, 2, 0, 2, 3, 3, 0, 3, 0, 0, 0, 0, 0, 0, 0, 0, 3, 3, 0, 3, 2, 0, 0, 0, 2, 0, 0, 0, 2, 2, 0, 2, 1, 2, 0, 2, 1, 2, 0, 2, 1, 3, 0, 3, 1, 0, 0, 0, 1, 0, 0, 0, 1, 3, 0, 3, 1, 0, 0, 0, 1, 0, 0, 0, 1, 1, 0, 1, 0, 1, 3, 1, 0, 1, 0, 1, 0, 1, 2, 1, 0, 1, 2, 1, 0, 1, 2, 1, 0, 1, 0, 1, 0, 1, 3, 1, 0, 1, 0, 1, 0, 2, 1, 2, 0, 2, 1, 2, 0, 2, 1, 2, 0, 3, 1, 3, 0, 0, 1, 0, 0, 0, 1, 0, 0, 3, 1, 3, 0, 0, 1, 0, 0, 0, 1, 0, 0, 2, 0, 2, 0, 2, 3, 2, 0, 2, 0, 2, 0, 3, 2, 3, 0, 0, 2, 0, 0, 0, 2, 0, 0, 3, 0, 3, 0, 0, 3, 0, 0, 0, 0, 0, 0)\n",
            "ValueIteration\n",
            "(0, 0, 0, 0, 0, 3, 0, 0, 0, 0, 0, 3, 0, 2, 0, 0, 0, 2, 0, 0, 0, 2, 0, 3, 0, 0, 0, 2, 0, 3, 0, 2, 0, 0, 0, 2, 0, 1, 0, 0, 0, 1, 0, 0, 0, 1, 0, 3, 0, 1, 0, 0, 0, 1, 0, 0, 0, 1, 0, 3, 0, 1, 0, 2, 0, 1, 0, 2, 0, 1, 0, 2, 0, 0, 0, 1, 0, 3, 0, 1, 0, 0, 0, 1, 0, 2, 0, 1, 0, 2, 0, 1, 0, 2, 0, 1, 0, 0, 0, 1, 0, 3, 0, 1, 0, 0, 0, 1, 1, 0, 1, 0, 1, 0, 1, 0, 1, 0, 1, 3, 1, 0, 1, 0, 1, 0, 1, 0, 1, 0, 1, 3, 1, 0, 1, 2, 1, 0, 1, 2, 1, 0, 1, 2, 2, 0, 2, 0, 2, 0, 2, 0, 2, 0, 2, 3, 3, 0, 3, 0, 0, 0, 0, 0, 0, 0, 0, 3, 3, 0, 3, 2, 0, 0, 0, 2, 0, 0, 0, 2, 2, 0, 2, 1, 2, 0, 2, 1, 2, 0, 2, 1, 3, 0, 3, 1, 0, 0, 0, 1, 0, 0, 0, 1, 3, 0, 3, 1, 0, 0, 0, 1, 0, 0, 0, 1, 1, 0, 1, 0, 1, 3, 1, 0, 1, 0, 1, 0, 1, 2, 1, 0, 1, 2, 1, 0, 1, 2, 1, 0, 1, 0, 1, 0, 1, 3, 1, 0, 1, 0, 1, 0, 2, 1, 2, 0, 2, 1, 2, 0, 2, 1, 2, 0, 3, 1, 3, 0, 0, 1, 0, 0, 0, 1, 0, 0, 3, 1, 3, 0, 0, 1, 0, 0, 0, 1, 0, 0, 2, 0, 2, 0, 2, 3, 2, 0, 2, 0, 2, 0, 3, 2, 3, 0, 0, 2, 0, 0, 0, 2, 0, 0, 3, 0, 3, 0, 0, 3, 0, 0, 0, 0, 0, 0)\n",
            "ValueIterationGS\n",
            "(0, 0, 0, 0, 0, 3, 0, 0, 0, 0, 0, 3, 0, 2, 0, 0, 0, 2, 0, 0, 0, 2, 0, 3, 0, 0, 0, 2, 0, 3, 0, 2, 0, 0, 0, 2, 0, 1, 0, 0, 0, 1, 0, 0, 0, 1, 0, 3, 0, 1, 0, 0, 0, 1, 0, 0, 0, 1, 0, 3, 0, 1, 0, 2, 0, 1, 0, 2, 0, 1, 0, 2, 0, 0, 0, 1, 0, 3, 0, 1, 0, 0, 0, 1, 0, 2, 0, 1, 0, 2, 0, 1, 0, 2, 0, 1, 0, 0, 0, 1, 0, 3, 0, 1, 0, 0, 0, 1, 1, 0, 1, 0, 1, 0, 1, 0, 1, 0, 1, 3, 1, 0, 1, 0, 1, 0, 1, 0, 1, 0, 1, 3, 1, 0, 1, 2, 1, 0, 1, 2, 1, 0, 1, 2, 2, 0, 2, 0, 2, 0, 2, 0, 2, 0, 2, 3, 3, 0, 3, 0, 0, 0, 0, 0, 0, 0, 0, 3, 3, 0, 3, 2, 0, 0, 0, 2, 0, 0, 0, 2, 2, 0, 2, 1, 2, 0, 2, 1, 2, 0, 2, 1, 3, 0, 3, 1, 0, 0, 0, 1, 0, 0, 0, 1, 3, 0, 3, 1, 0, 0, 0, 1, 0, 0, 0, 1, 1, 0, 1, 0, 1, 3, 1, 0, 1, 0, 1, 0, 1, 2, 1, 0, 1, 2, 1, 0, 1, 2, 1, 0, 1, 0, 1, 0, 1, 3, 1, 0, 1, 0, 1, 0, 2, 1, 2, 0, 2, 1, 2, 0, 2, 1, 2, 0, 3, 1, 3, 0, 0, 1, 0, 0, 0, 1, 0, 0, 3, 1, 3, 0, 0, 1, 0, 0, 0, 1, 0, 0, 2, 0, 2, 0, 2, 3, 2, 0, 2, 0, 2, 0, 3, 2, 3, 0, 0, 2, 0, 0, 0, 2, 0, 0, 3, 0, 3, 0, 0, 3, 0, 0, 0, 0, 0, 0)\n"
          ],
          "name": "stdout"
        }
      ]
    },
    {
      "cell_type": "markdown",
      "metadata": {
        "id": "FdNdEcF2QS9o"
      },
      "source": [
        "#Simulation \n",
        "For evaluation purposes an simulation of tasks the agent performs is conducted. The resulting reward after all iterations of tasks is returned"
      ]
    },
    {
      "cell_type": "code",
      "metadata": {
        "id": "calSx-UbkvqO"
      },
      "source": [
        "def simulate(policy, iterations=100, randomstart=False, druck=False):\n",
        "    reward=[]\n",
        "\n",
        "    # either start with random state or empty warehouse with random storing task\n",
        "    if randomstart:\n",
        "        #state = (random.choices(states, k=1)[0]).copy()\n",
        "        state= [['p2', 'p1', 'E', 'E'], 'p2', 'stock']\n",
        "    else:\n",
        "        warhouse_state = [warehouse]\n",
        "        warhouse_state.append(\"store\")\n",
        "        warhouse_state.append(random.choices(products, tuple(probabilities_only), k=1)[0])\n",
        "        state = warhouse_state.copy()\n",
        "\n",
        "    for i in range(iterations):\n",
        "        if druck:\n",
        "            print()\n",
        "            print(\"iteration\", i+1)\n",
        "        # validate states, if impossible movement is suggested \n",
        "        # unstock item that is not in warehouse\n",
        "        if state[-1] == \"unstock\" and state[-2] not in state[0]:\n",
        "            state[-1] = \"stock\"\n",
        "            if druck:\n",
        "                print(\"changed to store\", state)\n",
        "        # stock item in full warehouse\n",
        "        if state [-1] == \"stock\" and \"E\" not in state[0]:\n",
        "            state[-1]=\"unstock\"\n",
        "            if druck:\n",
        "                print(\"changed to unstore\", state)\n",
        "            # unstock and stock not possible\n",
        "            if (state[-2] not in state[0]):\n",
        "                state[-2] = random.choices(products, tuple(probabilities_only), k=1)[0]\n",
        "                if druck:\n",
        "                    print(\"changed item\", state)\n",
        "        \n",
        "        \n",
        "        #get recommended action based on policy and current state  \n",
        "        action = get_rec_action(policy, state)\n",
        "        if druck:\n",
        "            print(\"start\", state)\n",
        "            print(\"action\", action)         \n",
        "        \n",
        "        #find index of action and state\n",
        "        for it_action in range(len(actions)):\n",
        "            if action == actions[it_action]:\n",
        "                break       \n",
        "        for it_state in range(len(states)):\n",
        "            if state == states[it_state]:\n",
        "                break\n",
        "        \n",
        "        # add reward based on state and action\n",
        "        reward.append(rewards[it_state][it_action])\n",
        "        if druck:\n",
        "            print(\"reward\", rewards[it_state][it_action])\n",
        "        \n",
        "        # find possible next states(indices) from transition matrix\n",
        "        possible_next = list(np.where((T[it_action][it_state]) != 0)[0])\n",
        "        probabilites_next = []\n",
        "        for i in possible_next:\n",
        "            probabilites_next.append(T[it_action][it_state][i])\n",
        "        if druck:\n",
        "            print(\"possible next\", possible_next)\n",
        "            print(\"probabilities next\", probabilites_next)\n",
        "\n",
        "        # pick next state based on assigned probability \n",
        "        it_state = random.choices(possible_next, probabilites_next, k=1)[0]\n",
        "        state = states[it_state].copy()\n",
        "        if druck:\n",
        "            print(\"result\",it_state, state)\n",
        "        \n",
        "        \n",
        "    #return sum of reward\n",
        "    return sum(reward)"
      ],
      "execution_count": 22,
      "outputs": []
    },
    {
      "cell_type": "markdown",
      "metadata": {
        "id": "oVG_4UI6RCK2"
      },
      "source": [
        "# Simulation Results"
      ]
    },
    {
      "cell_type": "code",
      "metadata": {
        "colab": {
          "base_uri": "https://localhost:8080/"
        },
        "id": "c6dZu04UsTy4",
        "outputId": "3e6563f0-7c86-4d0e-e4a8-3bf7b15ff01e"
      },
      "source": [
        "rounds = 100\n",
        "print(\"Maximum Reward:\", rounds * 3)\n",
        "print(\"\")\n",
        "# loop over policy dictionary to print policy, total reward and reward per iteration\n",
        "for key, value in all_policies.items():\n",
        "  rew = simulate(value,iterations=rounds, randomstart=True, druck=False)\n",
        "  print(key,\":\")\n",
        "  print(\"  total reward:\", rew)\n",
        "  print(\"  average reward per iteration:\", rew / rounds)\n",
        "  print(\"\")"
      ],
      "execution_count": 29,
      "outputs": [
        {
          "output_type": "stream",
          "text": [
            "Maximum Reward: 300\n",
            "\n",
            "FiniteHorizon :\n",
            "  total reward: 238\n",
            "  average reward per iteration: 2.38\n",
            "\n",
            "PolicyIteration :\n",
            "  total reward: 217\n",
            "  average reward per iteration: 2.17\n",
            "\n",
            "PolicyIterationModified :\n",
            "  total reward: 219\n",
            "  average reward per iteration: 2.19\n",
            "\n",
            "RelativeValueIteration :\n",
            "  total reward: 229\n",
            "  average reward per iteration: 2.29\n",
            "\n",
            "ValueIteration :\n",
            "  total reward: 232\n",
            "  average reward per iteration: 2.32\n",
            "\n",
            "ValueIterationGS :\n",
            "  total reward: 248\n",
            "  average reward per iteration: 2.48\n",
            "\n"
          ],
          "name": "stdout"
        }
      ]
    },
    {
      "cell_type": "code",
      "metadata": {
        "colab": {
          "base_uri": "https://localhost:8080/"
        },
        "id": "Ti-JY6bNwiJe",
        "outputId": "9c0bf81a-4813-4797-baed-4e134db777c8"
      },
      "source": [
        "simulate(value,iterations=5, randomstart=True, druck=True)"
      ],
      "execution_count": 24,
      "outputs": [
        {
          "output_type": "stream",
          "text": [
            "\n",
            "iteration 1\n",
            "start [['p2', 'p1', 'E', 'E'], 'p2', 'stock']\n",
            "action C\n",
            "reward 2\n",
            "possible next [276, 277, 278, 279]\n",
            "probabilities next [0.4, 0.4, 0.1, 0.1]\n",
            "result 276 [['p2', 'p1', 'p2', 'E'], 'p1', 'stock']\n",
            "\n",
            "iteration 2\n",
            "start [['p2', 'p1', 'p2', 'E'], 'p1', 'stock']\n",
            "action D\n",
            "reward 1\n",
            "possible next [280, 281, 282, 283]\n",
            "probabilities next [0.4, 0.4, 0.1, 0.1]\n",
            "result 280 [['p2', 'p1', 'p2', 'p1'], 'p1', 'stock']\n",
            "\n",
            "iteration 3\n",
            "changed to unstore [['p2', 'p1', 'p2', 'p1'], 'p1', 'unstock']\n",
            "start [['p2', 'p1', 'p2', 'p1'], 'p1', 'unstock']\n",
            "action B\n",
            "reward 2\n",
            "possible next [244, 245, 246, 247]\n",
            "probabilities next [0.4, 0.4, 0.1, 0.1]\n",
            "result 245 [['p2', 'E', 'p2', 'p1'], 'p1', 'unstock']\n",
            "\n",
            "iteration 4\n",
            "start [['p2', 'E', 'p2', 'p1'], 'p1', 'unstock']\n",
            "action D\n",
            "reward 1\n",
            "possible next [240, 241, 242, 243]\n",
            "probabilities next [0.4, 0.4, 0.1, 0.1]\n",
            "result 241 [['p2', 'E', 'p2', 'E'], 'p1', 'unstock']\n",
            "\n",
            "iteration 5\n",
            "changed to store [['p2', 'E', 'p2', 'E'], 'p1', 'stock']\n",
            "start [['p2', 'E', 'p2', 'E'], 'p1', 'stock']\n",
            "action B\n",
            "reward 2\n",
            "possible next [276, 277, 278, 279]\n",
            "probabilities next [0.4, 0.4, 0.1, 0.1]\n",
            "result 277 [['p2', 'p1', 'p2', 'E'], 'p1', 'unstock']\n"
          ],
          "name": "stdout"
        },
        {
          "output_type": "execute_result",
          "data": {
            "text/plain": [
              "8"
            ]
          },
          "metadata": {
            "tags": []
          },
          "execution_count": 24
        }
      ]
    }
  ]
}