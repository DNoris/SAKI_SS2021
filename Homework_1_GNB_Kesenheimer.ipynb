{
  "nbformat": 4,
  "nbformat_minor": 0,
  "metadata": {
    "colab": {
      "name": "Homework_1_GNB_Kesenheimer",
      "provenance": [],
      "collapsed_sections": [],
      "toc_visible": true
    },
    "kernelspec": {
      "name": "python3",
      "display_name": "Python 3"
    },
    "language_info": {
      "name": "python"
    }
  },
  "cells": [
    {
      "cell_type": "markdown",
      "metadata": {
        "id": "Xk5pi7H4AA-x"
      },
      "source": [
        "#Prerequisites\n"
      ]
    },
    {
      "cell_type": "markdown",
      "metadata": {
        "id": "N45xJ9WE4Syi"
      },
      "source": [
        "## Import Libraries\n",
        "Import required libraries for prerequisites."
      ]
    },
    {
      "cell_type": "code",
      "metadata": {
        "id": "aJA6oqER8Rs9"
      },
      "source": [
        "from google.colab import files\n",
        "import pandas as pd\n",
        "import io"
      ],
      "execution_count": 1,
      "outputs": []
    },
    {
      "cell_type": "markdown",
      "metadata": {
        "id": "1P9EVzbQ8Q1E"
      },
      "source": [
        "##Import Data\n",
        "Upload file, read data from csv file into dataset variable."
      ]
    },
    {
      "cell_type": "code",
      "metadata": {
        "colab": {
          "resources": {
            "http://localhost:8080/nbextensions/google.colab/files.js": {
              "data": "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",
              "ok": true,
              "headers": [
                [
                  "content-type",
                  "application/javascript"
                ]
              ],
              "status": 200,
              "status_text": ""
            }
          },
          "base_uri": "https://localhost:8080/",
          "height": 72
        },
        "id": "bk46vwXnVEbw",
        "outputId": "c7b7cc47-b649-4da6-9576-a7e13d92a9ac"
      },
      "source": [
        "uploaded = files.upload()\n",
        "\n",
        "data_set = pd.read_csv(io.BytesIO(uploaded['SAKI Exercise 1 - Transaction Classification - Data Set.csv']), sep=';')"
      ],
      "execution_count": 2,
      "outputs": [
        {
          "output_type": "display_data",
          "data": {
            "text/html": [
              "\n",
              "     <input type=\"file\" id=\"files-eee5a487-fdd5-46a6-86d5-ff13d9d66138\" name=\"files[]\" multiple disabled\n",
              "        style=\"border:none\" />\n",
              "     <output id=\"result-eee5a487-fdd5-46a6-86d5-ff13d9d66138\">\n",
              "      Upload widget is only available when the cell has been executed in the\n",
              "      current browser session. Please rerun this cell to enable.\n",
              "      </output>\n",
              "      <script src=\"/nbextensions/google.colab/files.js\"></script> "
            ],
            "text/plain": [
              "<IPython.core.display.HTML object>"
            ]
          },
          "metadata": {
            "tags": []
          }
        },
        {
          "output_type": "stream",
          "text": [
            "Saving SAKI Exercise 1 - Transaction Classification - Data Set.csv to SAKI Exercise 1 - Transaction Classification - Data Set (2).csv\n"
          ],
          "name": "stdout"
        }
      ]
    },
    {
      "cell_type": "markdown",
      "metadata": {
        "id": "cUSFZuU15BAe"
      },
      "source": [
        "## Raw data evaluation\n",
        "\n",
        "Data set, shape and recognized datatypes are displayed. \n"
      ]
    },
    {
      "cell_type": "code",
      "metadata": {
        "colab": {
          "base_uri": "https://localhost:8080/"
        },
        "id": "M-LGXUJk4w4A",
        "outputId": "e57b81b1-4740-4de3-a72c-93034639aa41"
      },
      "source": [
        "print(data_set)\n",
        "print(data_set.shape)\n",
        "print(data_set.dtypes)"
      ],
      "execution_count": 3,
      "outputs": [
        {
          "output_type": "stream",
          "text": [
            "     Unnamed: 0  Auftragskonto Buchungstag  ...    Betrag Waehrung             label\n",
            "0             0     89990201.0  28.07.2016  ...   2000.00      EUR            income\n",
            "1             1     89990201.0  27.07.2016  ...   -670.00      EUR            living\n",
            "2             2     89990201.0  21.07.2016  ...    -70.00      EUR           private\n",
            "3             3     89990201.0  20.07.2016  ...    -73.21      EUR  standardOfLiving\n",
            "4             4     89990201.0  18.07.2016  ...      -363      EUR           leisure\n",
            "..          ...            ...         ...  ...       ...      ...               ...\n",
            "204         204            NaN  15.02.2016  ...    200.00      EUR           finance\n",
            "205         205            NaN  02.02.2016  ...   -300.00      EUR           finance\n",
            "206         206            NaN  28.01.2016  ...   2000.00      EUR            income\n",
            "207         207            NaN  28.01.2016  ...  -4000.00      EUR           finance\n",
            "208         208     89990210.0  08.01.2016  ...     -51,2      EUR           leisure\n",
            "\n",
            "[209 rows x 12 columns]\n",
            "(209, 12)\n",
            "Unnamed: 0                             int64\n",
            "Auftragskonto                        float64\n",
            "Buchungstag                           object\n",
            "Valutadatum                           object\n",
            "Buchungstext                          object\n",
            "Verwendungszweck                      object\n",
            "Beguenstigter/Zahlungspflichtiger     object\n",
            "Kontonummer                           object\n",
            "BLZ                                   object\n",
            "Betrag                                object\n",
            "Waehrung                              object\n",
            "label                                 object\n",
            "dtype: object\n"
          ],
          "name": "stdout"
        }
      ]
    },
    {
      "cell_type": "markdown",
      "metadata": {
        "id": "HaCuBNxS9pSr"
      },
      "source": [
        "#Manual data preprocessing"
      ]
    },
    {
      "cell_type": "markdown",
      "metadata": {
        "id": "mSvS1UGO4Xoc"
      },
      "source": [
        "##Data manipulation\n",
        "Column \"Betrag\" is recognized as data type Object. For later classification this column should be processed as a numeric feature, therefor a data type conversion is conducted. \n",
        "\n",
        "Data is printed out for verification of the applied functions. "
      ]
    },
    {
      "cell_type": "code",
      "metadata": {
        "id": "i6T09KSPl9sn"
      },
      "source": [
        "data_set[\"Betrag\"] = data_set[\"Betrag\"].str.replace(\",\", \".\").astype(float)"
      ],
      "execution_count": 4,
      "outputs": []
    },
    {
      "cell_type": "code",
      "metadata": {
        "colab": {
          "base_uri": "https://localhost:8080/"
        },
        "id": "rJYbtX6-nyDs",
        "outputId": "22a403c6-52cc-4aac-f481-c6feb9db83f7"
      },
      "source": [
        "print(data_set)\n",
        "print(data_set.shape)\n",
        "print(data_set.dtypes)"
      ],
      "execution_count": 5,
      "outputs": [
        {
          "output_type": "stream",
          "text": [
            "     Unnamed: 0  Auftragskonto Buchungstag  ...   Betrag Waehrung             label\n",
            "0             0     89990201.0  28.07.2016  ...  2000.00      EUR            income\n",
            "1             1     89990201.0  27.07.2016  ...  -670.00      EUR            living\n",
            "2             2     89990201.0  21.07.2016  ...   -70.00      EUR           private\n",
            "3             3     89990201.0  20.07.2016  ...   -73.21      EUR  standardOfLiving\n",
            "4             4     89990201.0  18.07.2016  ...  -363.00      EUR           leisure\n",
            "..          ...            ...         ...  ...      ...      ...               ...\n",
            "204         204            NaN  15.02.2016  ...   200.00      EUR           finance\n",
            "205         205            NaN  02.02.2016  ...  -300.00      EUR           finance\n",
            "206         206            NaN  28.01.2016  ...  2000.00      EUR            income\n",
            "207         207            NaN  28.01.2016  ... -4000.00      EUR           finance\n",
            "208         208     89990210.0  08.01.2016  ...   -51.20      EUR           leisure\n",
            "\n",
            "[209 rows x 12 columns]\n",
            "(209, 12)\n",
            "Unnamed: 0                             int64\n",
            "Auftragskonto                        float64\n",
            "Buchungstag                           object\n",
            "Valutadatum                           object\n",
            "Buchungstext                          object\n",
            "Verwendungszweck                      object\n",
            "Beguenstigter/Zahlungspflichtiger     object\n",
            "Kontonummer                           object\n",
            "BLZ                                   object\n",
            "Betrag                               float64\n",
            "Waehrung                              object\n",
            "label                                 object\n",
            "dtype: object\n"
          ],
          "name": "stdout"
        }
      ]
    },
    {
      "cell_type": "markdown",
      "metadata": {
        "id": "iqVUF5hu8mNS"
      },
      "source": [
        "## Identify missing values\n",
        "Values in column “Betrag” have different decimal separators. As only decimal separators are present in this column all comma separator are replaced by point separators. \n",
        "The function isna() returns, if a value is not or NaN and can be summed up to get the number of missing values per column. \n",
        "Data is printed out for verification of the applied functions."
      ]
    },
    {
      "cell_type": "code",
      "metadata": {
        "colab": {
          "base_uri": "https://localhost:8080/"
        },
        "id": "t_a0Tnte8AnI",
        "outputId": "a5737f45-8a52-43e9-b41e-ba884a5b4452"
      },
      "source": [
        "data_set.isna().sum()"
      ],
      "execution_count": 6,
      "outputs": [
        {
          "output_type": "execute_result",
          "data": {
            "text/plain": [
              "Unnamed: 0                            0\n",
              "Auftragskonto                        41\n",
              "Buchungstag                           0\n",
              "Valutadatum                           0\n",
              "Buchungstext                          0\n",
              "Verwendungszweck                      0\n",
              "Beguenstigter/Zahlungspflichtiger     0\n",
              "Kontonummer                           1\n",
              "BLZ                                   1\n",
              "Betrag                                0\n",
              "Waehrung                              0\n",
              "label                                 0\n",
              "dtype: int64"
            ]
          },
          "metadata": {
            "tags": []
          },
          "execution_count": 6
        }
      ]
    },
    {
      "cell_type": "code",
      "metadata": {
        "colab": {
          "base_uri": "https://localhost:8080/"
        },
        "id": "IeqCVEVan06C",
        "outputId": "281866f7-833a-4796-d099-630d36a4c2c4"
      },
      "source": [
        "data_set['Auftragskonto'] = data_set['Auftragskonto'].fillna(89990210.0)\n",
        "data_set['Kontonummer'] = data_set['Kontonummer'].fillna('Unknown')\n",
        "data_set['BLZ'] = data_set['BLZ'].fillna('Unknown')\n",
        "data_set.isna().sum()"
      ],
      "execution_count": 7,
      "outputs": [
        {
          "output_type": "execute_result",
          "data": {
            "text/plain": [
              "Unnamed: 0                           0\n",
              "Auftragskonto                        0\n",
              "Buchungstag                          0\n",
              "Valutadatum                          0\n",
              "Buchungstext                         0\n",
              "Verwendungszweck                     0\n",
              "Beguenstigter/Zahlungspflichtiger    0\n",
              "Kontonummer                          0\n",
              "BLZ                                  0\n",
              "Betrag                               0\n",
              "Waehrung                             0\n",
              "label                                0\n",
              "dtype: int64"
            ]
          },
          "metadata": {
            "tags": []
          },
          "execution_count": 7
        }
      ]
    },
    {
      "cell_type": "markdown",
      "metadata": {
        "id": "oytAzoRE_gpq"
      },
      "source": [
        "##Reshaping\n",
        "Reshaping data set to X and Y sets. \n",
        "Shapes of newly created data set is printed, to verify successful slicing.Unique Classes are printed. "
      ]
    },
    {
      "cell_type": "code",
      "metadata": {
        "colab": {
          "base_uri": "https://localhost:8080/"
        },
        "id": "YWlskI9QlOCC",
        "outputId": "3ba73c3b-ec8c-4562-f09a-7248b3da71c2"
      },
      "source": [
        "X = data_set.iloc[:,:11]\n",
        "Y = data_set.iloc[:,11]\n",
        "\n",
        "\n",
        "print('Data_Set Shape: ', data_set.shape)\n",
        "print('X Shape: ', X.shape)\n",
        "print('Y Shape: ', Y.shape)\n",
        "print('Y_Classes', Y.unique())\n"
      ],
      "execution_count": 8,
      "outputs": [
        {
          "output_type": "stream",
          "text": [
            "Data_Set Shape:  (209, 12)\n",
            "X Shape:  (209, 11)\n",
            "Y Shape:  (209,)\n",
            "Y_Classes ['income' 'living' 'private' 'standardOfLiving' 'leisure' 'finance']\n"
          ],
          "name": "stdout"
        }
      ]
    },
    {
      "cell_type": "markdown",
      "metadata": {
        "id": "KKQnMECcAO14"
      },
      "source": [
        "#Gaussian Naive Bayes"
      ]
    },
    {
      "cell_type": "markdown",
      "metadata": {
        "id": "cv3DOJJE_v9j"
      },
      "source": [
        "Import required libraries for Gaussian Naive Bayes."
      ]
    },
    {
      "cell_type": "code",
      "metadata": {
        "id": "uILZkezB_1Zn"
      },
      "source": [
        "from sklearn.pipeline import Pipeline\n",
        "from sklearn.impute import SimpleImputer\n",
        "from sklearn.naive_bayes import GaussianNB\n",
        "from sklearn.compose import ColumnTransformer\n",
        "from sklearn.preprocessing import StandardScaler, OneHotEncoder, OrdinalEncoder\n",
        "from sklearn.model_selection import train_test_split\n",
        "import matplotlib.pyplot as plt\n",
        "from sklearn import metrics\n",
        "from collections import Counter\n",
        "\n",
        "gnb = GaussianNB()"
      ],
      "execution_count": 9,
      "outputs": []
    },
    {
      "cell_type": "markdown",
      "metadata": {
        "id": "4wbAZg0z_3Ez"
      },
      "source": [
        "\n",
        "\n"
      ]
    },
    {
      "cell_type": "markdown",
      "metadata": {
        "id": "-Vv9ijYcQVLc"
      },
      "source": [
        "##Comparing OrdinalEncoder() to OneHotEncoder()\n",
        "Both functions are implemented and validated against accuracy and weighted F1-Score to compare which encoder algorithm supports better classification of the data. For simplification reasons all features are handled at this stage as categorical features."
      ]
    },
    {
      "cell_type": "markdown",
      "metadata": {
        "id": "WBqqpPgSI9bW"
      },
      "source": [
        "### Calculating results for OrdinalEncoder()"
      ]
    },
    {
      "cell_type": "code",
      "metadata": {
        "colab": {
          "base_uri": "https://localhost:8080/"
        },
        "id": "tjk0nY3avnH3",
        "outputId": "08051df6-f654-4a78-d964-b870ca65e62c"
      },
      "source": [
        "enc = OrdinalEncoder()\n",
        "ord_enc = enc.fit_transform(X)\n",
        "\n",
        "#Split into Test and Training data set\n",
        "#Fit the classifier\n",
        "# Predict y_pred based on X_test\n",
        "X_train, X_test, y_train, y_test = train_test_split(ord_enc, Y, test_size=0.2, random_state=42)\n",
        "gnb.fit(X_train, y_train)\n",
        "y_pred = gnb.predict(X_test)\n",
        "\n",
        "#Result evaluation\n",
        "print(\"Model Score: %.3f\" % gnb.score(X_test, y_test))\n",
        "print('Accuracy Score: %.3f' % metrics.balanced_accuracy_score(y_test, y_pred))\n",
        "print('F1 Score weighted: %.3f' % metrics.f1_score(y_test, y_pred, average = 'weighted'))"
      ],
      "execution_count": 10,
      "outputs": [
        {
          "output_type": "stream",
          "text": [
            "Model Score: 0.690\n",
            "Accuracy Score: 0.714\n",
            "F1 Score weighted: 0.693\n"
          ],
          "name": "stdout"
        }
      ]
    },
    {
      "cell_type": "markdown",
      "metadata": {
        "id": "dfKtyA2JLXiB"
      },
      "source": [
        "### Calculating results for OneHotEncoder()\n"
      ]
    },
    {
      "cell_type": "code",
      "metadata": {
        "colab": {
          "base_uri": "https://localhost:8080/"
        },
        "id": "ZTWR7B923HdN",
        "outputId": "9903d381-0a8c-4ea4-bb75-eda337b953b0"
      },
      "source": [
        "#capture categorical features in list and name transformer\n",
        "categorical_features = ['Auftragskonto','Buchungstag','Valutadatum','Buchungstext','Verwendungszweck','Beguenstigter/Zahlungspflichtiger', 'Kontonummer', 'BLZ', 'Betrag', 'Waehrung']\n",
        "categorical_transformer = OneHotEncoder(handle_unknown='ignore')\n",
        "\n",
        "#built preprocessor \n",
        "preprocessor = ColumnTransformer(transformers=[('cat', categorical_transformer, categorical_features)],sparse_threshold=0)\n",
        "\n",
        "#Append classifier to preprocessing pipeline.\n",
        "clf = Pipeline(steps=[('preprocessor', preprocessor), ('classifier', GaussianNB())])\n",
        "\n",
        "#Split into Test and Training data set\n",
        "#Fit the classifier\n",
        "# Predict y_pred based on X_test\n",
        "X_train, X_test, y_train, y_test = train_test_split(X, Y, test_size=0.2, random_state=42)\n",
        "clf.fit(X_train, y_train)\n",
        "y_pred = clf.predict(X_test)\n",
        "\n",
        "#Result evaluation\n",
        "print(\"Model Score: %.3f\" % clf.score(X_test, y_test))\n",
        "print('Accuracy Score: %.3f' % metrics.balanced_accuracy_score(y_test, y_pred))\n",
        "print('F1 Score weighted: %.3f' % metrics.f1_score(y_test, y_pred, average = 'weighted'))"
      ],
      "execution_count": 11,
      "outputs": [
        {
          "output_type": "stream",
          "text": [
            "Model Score: 0.952\n",
            "Accuracy Score: 0.952\n",
            "F1 Score weighted: 0.952\n"
          ],
          "name": "stdout"
        }
      ]
    },
    {
      "cell_type": "markdown",
      "metadata": {
        "id": "PD9hJOQcLMQw"
      },
      "source": [
        "##OneHotEncoder()"
      ]
    },
    {
      "cell_type": "markdown",
      "metadata": {
        "id": "_NUnztwCNDXU"
      },
      "source": [
        "##Categorical and Numeric Features\n",
        "\n",
        "Transforming column \"Betrag\" as a numeric feature instead of a categorical feature."
      ]
    },
    {
      "cell_type": "code",
      "metadata": {
        "colab": {
          "base_uri": "https://localhost:8080/",
          "height": 566
        },
        "id": "w-8IobMjM9Ps",
        "outputId": "29bf565f-06aa-4f2c-b565-0dc94c3e91ad"
      },
      "source": [
        "#capture numeric features in list and name transformer\n",
        "numeric_features = ['Betrag']\n",
        "numeric_transformer = Pipeline(steps=[('imputer', SimpleImputer(strategy='median')),('scaler', StandardScaler())])\n",
        "\n",
        "#capture categorical features in list and name transformer\n",
        "categorical_features = ['Auftragskonto','Buchungstag','Valutadatum','Buchungstext','Verwendungszweck','Beguenstigter/Zahlungspflichtiger', 'Kontonummer', 'BLZ', 'Waehrung']\n",
        "categorical_transformer = OneHotEncoder(handle_unknown='ignore')\n",
        "\n",
        "#built preprocessor \n",
        "preprocessor = ColumnTransformer(transformers=[('num', numeric_transformer, numeric_features),('cat', categorical_transformer, categorical_features)],sparse_threshold=0)\n",
        "\n",
        "# Append classifier to preprocessing pipeline.\n",
        "clf = Pipeline(steps=[('preprocessor', preprocessor), ('classifier', GaussianNB())])\n",
        "\n",
        "#Split into Test and Training data set\n",
        "#Fit the classifier\n",
        "# Predict y_pred based on X_test\n",
        "X_train, X_test, y_train, y_test = train_test_split(X, Y, test_size=0.2, random_state=42)\n",
        "clf.fit(X_train, y_train)\n",
        "y_pred = clf.predict(X_test)\n",
        "\n",
        "#Result evaluation\n",
        "print(\"model score: %.3f\" % clf.score(X_test, y_test))\n",
        "print('Accuracy Score: %.3f' % metrics.balanced_accuracy_score(y_test, y_pred))\n",
        "print('F1 Score weighted: %.3f' % metrics.f1_score(y_test, y_pred, average = 'weighted'))\n",
        "metrics.plot_confusion_matrix(clf,X_test,y_test)\n",
        "plt.show\n",
        "print('_______')\n",
        "print(metrics.classification_report(y_test,y_pred))\n"
      ],
      "execution_count": 12,
      "outputs": [
        {
          "output_type": "stream",
          "text": [
            "model score: 0.952\n",
            "Accuracy Score: 0.952\n",
            "F1 Score weighted: 0.952\n",
            "_______\n",
            "                  precision    recall  f1-score   support\n",
            "\n",
            "         finance       1.00      1.00      1.00         6\n",
            "          income       1.00      1.00      1.00         4\n",
            "         leisure       1.00      1.00      1.00        12\n",
            "          living       0.80      0.80      0.80         5\n",
            "         private       1.00      1.00      1.00         4\n",
            "standardOfLiving       0.91      0.91      0.91        11\n",
            "\n",
            "        accuracy                           0.95        42\n",
            "       macro avg       0.95      0.95      0.95        42\n",
            "    weighted avg       0.95      0.95      0.95        42\n",
            "\n"
          ],
          "name": "stdout"
        },
        {
          "output_type": "display_data",
          "data": {
            "image/png": "[encoded data removed]",
            "text/plain": [
              "<Figure size 432x288 with 2 Axes>"
            ]
          },
          "metadata": {
            "tags": [],
            "needs_background": "light"
          }
        }
      ]
    },
    {
      "cell_type": "markdown",
      "metadata": {
        "id": "NiSSgbvzNTck"
      },
      "source": [
        "##Drop Date Columns"
      ]
    },
    {
      "cell_type": "code",
      "metadata": {
        "colab": {
          "base_uri": "https://localhost:8080/",
          "height": 566
        },
        "id": "Zjc0jfA8L-q7",
        "outputId": "02eed68d-8b84-49b5-cc2f-786f12e23b30"
      },
      "source": [
        "#capture numeric features in list and name transformer\n",
        "numeric_features = ['Betrag']\n",
        "numeric_transformer = Pipeline(steps=[('imputer', SimpleImputer(strategy='median')),('scaler', StandardScaler())])\n",
        "\n",
        "#capture categorical features in list and name transformer\n",
        "categorical_features = ['Auftragskonto','Buchungstext','Verwendungszweck','Beguenstigter/Zahlungspflichtiger', 'Kontonummer', 'BLZ', 'Waehrung']\n",
        "categorical_transformer = OneHotEncoder(handle_unknown='ignore')\n",
        "\n",
        "#built preprocessor \n",
        "preprocessor = ColumnTransformer(transformers=[('num', numeric_transformer, numeric_features),('cat', categorical_transformer, categorical_features)],sparse_threshold=0)\n",
        "\n",
        "# Append classifier to preprocessing pipeline.\n",
        "clf = Pipeline(steps=[('preprocessor', preprocessor), ('classifier', GaussianNB())])\n",
        "\n",
        "#Split into Test and Training data set\n",
        "#Fit the classifier\n",
        "# Predict y_pred based on X_test\n",
        "X_train, X_test, y_train, y_test = train_test_split(X, Y, test_size=0.2, random_state=42)\n",
        "clf.fit(X_train, y_train)\n",
        "y_pred = clf.predict(X_test)\n",
        "\n",
        "#Result evaluation\n",
        "print(\"model score: %.3f\" % clf.score(X_test, y_test))\n",
        "print('Accuracy Score: %.3f' % metrics.balanced_accuracy_score(y_test, y_pred))\n",
        "print('F1 Score weighted: %.3f' % metrics.f1_score(y_test, y_pred, average = 'weighted'))\n",
        "metrics.plot_confusion_matrix(clf,X_test,y_test)\n",
        "plt.show\n",
        "print('_______')\n",
        "print(metrics.classification_report(y_test,y_pred))"
      ],
      "execution_count": 13,
      "outputs": [
        {
          "output_type": "stream",
          "text": [
            "model score: 1.000\n",
            "Accuracy Score: 1.000\n",
            "F1 Score weighted: 1.000\n",
            "_______\n",
            "                  precision    recall  f1-score   support\n",
            "\n",
            "         finance       1.00      1.00      1.00         6\n",
            "          income       1.00      1.00      1.00         4\n",
            "         leisure       1.00      1.00      1.00        12\n",
            "          living       1.00      1.00      1.00         5\n",
            "         private       1.00      1.00      1.00         4\n",
            "standardOfLiving       1.00      1.00      1.00        11\n",
            "\n",
            "        accuracy                           1.00        42\n",
            "       macro avg       1.00      1.00      1.00        42\n",
            "    weighted avg       1.00      1.00      1.00        42\n",
            "\n"
          ],
          "name": "stdout"
        },
        {
          "output_type": "display_data",
          "data": {
            "image/png": "[encoded data removed]",
            "text/plain": [
              "<Figure size 432x288 with 2 Axes>"
            ]
          },
          "metadata": {
            "tags": [],
            "needs_background": "light"
          }
        }
      ]
    },
    {
      "cell_type": "markdown",
      "metadata": {
        "id": "ZQlQ-SQ67H7Z"
      },
      "source": [
        "## Distribution of data across labels "
      ]
    },
    {
      "cell_type": "code",
      "metadata": {
        "colab": {
          "base_uri": "https://localhost:8080/"
        },
        "id": "bYxm6RzL7Tfn",
        "outputId": "b3cafc22-b7e5-4702-d4fe-48df8d9bd05b"
      },
      "source": [
        "print(Counter(Y))"
      ],
      "execution_count": 14,
      "outputs": [
        {
          "output_type": "stream",
          "text": [
            "Counter({'leisure': 65, 'standardOfLiving': 47, 'finance': 33, 'living': 26, 'private': 21, 'income': 17})\n"
          ],
          "name": "stdout"
        }
      ]
    }
  ]
}